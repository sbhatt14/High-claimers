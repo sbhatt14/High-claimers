{
 "cells": [
  {
   "cell_type": "markdown",
   "metadata": {},
   "source": [
    "# Banking Insurance Data"
   ]
  },
  {
   "cell_type": "markdown",
   "metadata": {},
   "source": [
    "## 1) Import Libraries and check head of Dataframe"
   ]
  },
  {
   "cell_type": "code",
   "execution_count": 1,
   "metadata": {
    "collapsed": false
   },
   "outputs": [],
   "source": [
    "# Import Libraries\n",
    "import pandas as pd\n",
    "from __future__ import division\n",
    "import seaborn as sns\n",
    "import numpy as np\n",
    "import scipy.stats as stats\n",
    "import seaborn as sns\n",
    "import matplotlib.pyplot as plt\n",
    "import patsy\n",
    "import sklearn.linear_model as linear\n",
    "import random\n",
    "sns.set(style=\"darkgrid\")\n",
    "import os,sys\n",
    "import xlrd\n",
    "import math\n",
    "from pandas.tools.plotting import scatter_matrix\n",
    "plt.style.use('ggplot')\n",
    "%matplotlib inline\n",
    "from sklearn.cross_validation import ShuffleSplit\n",
    "from sklearn.cross_validation import train_test_split\n",
    "from sklearn import metrics as mt\n",
    "import datetime\n",
    "import time\n",
    "from sklearn.datasets import make_classification\n",
    "from sklearn.linear_model import LogisticRegression\n",
    "from sklearn.ensemble import (RandomTreesEmbedding, RandomForestClassifier,\n",
    "                              GradientBoostingClassifier)\n",
    "from sklearn.preprocessing import OneHotEncoder\n",
    "from sklearn.cross_validation import train_test_split\n",
    "from sklearn.metrics import roc_curve\n",
    "from sklearn.pipeline import make_pipeline\n",
    "from sklearn.metrics import roc_curve, auc\n",
    "import pylab as p\n",
    "from sklearn import tree\n",
    "from io import BytesIO as StringIO\n",
    "from IPython.display import Image\n",
    "import pydotplus\n",
    "from IPython.display import Image  \n",
    "import pydotplus\n",
    "from io import BytesIO as StringIO\n",
    "import copy\n",
    "from copy import deepcopy\n",
    "from sklearn import cross_validation\n",
    "from numpy import random as np_random\n",
    "from sklearn.tree import DecisionTreeRegressor\n",
    "from sklearn import linear_model\n",
    "% matplotlib inline"
   ]
  },
  {
   "cell_type": "code",
   "execution_count": 3,
   "metadata": {
    "collapsed": true
   },
   "outputs": [],
   "source": [
    "# Import the brvehins1 dataset\n",
    "brevehins = pd.read_csv(\"brvehins1.csv\",sep = \",\")"
   ]
  },
  {
   "cell_type": "code",
   "execution_count": 4,
   "metadata": {
    "collapsed": false
   },
   "outputs": [
    {
     "name": "stdout",
     "output_type": "stream",
     "text": [
      "<class 'pandas.core.frame.DataFrame'>\n",
      "RangeIndex: 1965355 entries, 0 to 1965354\n",
      "Data columns (total 23 columns):\n",
      "Gender                 object\n",
      "DrivAge                object\n",
      "VehYear                float64\n",
      "VehModel               object\n",
      "VehGroup               object\n",
      "Area                   object\n",
      "State                  object\n",
      "StateAb                object\n",
      "ExposTotal             float64\n",
      "ExposFireRob           int64\n",
      "PremTotal              float64\n",
      "PremFireRob            int64\n",
      "SumInsAvg              float64\n",
      "ClaimNbRob             int64\n",
      "ClaimNbPartColl        int64\n",
      "ClaimNbTotColl         int64\n",
      "ClaimNbFire            int64\n",
      "ClaimNbOther           int64\n",
      "ClaimAmountRob         float64\n",
      "ClaimAmountPartColl    int64\n",
      "ClaimAmountTotColl     float64\n",
      "ClaimAmountFire        int64\n",
      "ClaimAmountOther       int64\n",
      "dtypes: float64(6), int64(10), object(7)\n",
      "memory usage: 344.9+ MB\n"
     ]
    },
    {
     "data": {
      "text/html": [
       "<div>\n",
       "<table border=\"1\" class=\"dataframe\">\n",
       "  <thead>\n",
       "    <tr style=\"text-align: right;\">\n",
       "      <th></th>\n",
       "      <th>Gender</th>\n",
       "      <th>DrivAge</th>\n",
       "      <th>VehYear</th>\n",
       "      <th>VehModel</th>\n",
       "      <th>VehGroup</th>\n",
       "      <th>Area</th>\n",
       "      <th>State</th>\n",
       "      <th>StateAb</th>\n",
       "      <th>ExposTotal</th>\n",
       "      <th>ExposFireRob</th>\n",
       "      <th>...</th>\n",
       "      <th>ClaimNbRob</th>\n",
       "      <th>ClaimNbPartColl</th>\n",
       "      <th>ClaimNbTotColl</th>\n",
       "      <th>ClaimNbFire</th>\n",
       "      <th>ClaimNbOther</th>\n",
       "      <th>ClaimAmountRob</th>\n",
       "      <th>ClaimAmountPartColl</th>\n",
       "      <th>ClaimAmountTotColl</th>\n",
       "      <th>ClaimAmountFire</th>\n",
       "      <th>ClaimAmountOther</th>\n",
       "    </tr>\n",
       "  </thead>\n",
       "  <tbody>\n",
       "    <tr>\n",
       "      <th>0</th>\n",
       "      <td>Female</td>\n",
       "      <td>&gt;55</td>\n",
       "      <td>1997.0</td>\n",
       "      <td>Gm - Chevrolet - Kadett Gl 2.0 Mpfi / Efi</td>\n",
       "      <td>Gm Chevrolet Kadett</td>\n",
       "      <td>Interior</td>\n",
       "      <td>Rio de Janeiro</td>\n",
       "      <td>RJ</td>\n",
       "      <td>1.01</td>\n",
       "      <td>0</td>\n",
       "      <td>...</td>\n",
       "      <td>0</td>\n",
       "      <td>0</td>\n",
       "      <td>0</td>\n",
       "      <td>0</td>\n",
       "      <td>0</td>\n",
       "      <td>0.0</td>\n",
       "      <td>0</td>\n",
       "      <td>0.0</td>\n",
       "      <td>0</td>\n",
       "      <td>0</td>\n",
       "    </tr>\n",
       "    <tr>\n",
       "      <th>1</th>\n",
       "      <td>Female</td>\n",
       "      <td>36-45</td>\n",
       "      <td>2010.0</td>\n",
       "      <td>Gm - Chevrolet - Montana 1.4 8v Conquest Econo...</td>\n",
       "      <td>Gm Chevrolet Montana</td>\n",
       "      <td>Maranhao</td>\n",
       "      <td>Maranhao</td>\n",
       "      <td>MA</td>\n",
       "      <td>3.00</td>\n",
       "      <td>0</td>\n",
       "      <td>...</td>\n",
       "      <td>0</td>\n",
       "      <td>0</td>\n",
       "      <td>0</td>\n",
       "      <td>0</td>\n",
       "      <td>0</td>\n",
       "      <td>0.0</td>\n",
       "      <td>0</td>\n",
       "      <td>0.0</td>\n",
       "      <td>0</td>\n",
       "      <td>0</td>\n",
       "    </tr>\n",
       "    <tr>\n",
       "      <th>2</th>\n",
       "      <td>Female</td>\n",
       "      <td>18-25</td>\n",
       "      <td>2008.0</td>\n",
       "      <td>Vw - Volkswagen - Fox City 1.0mi/ 1.0mi Total ...</td>\n",
       "      <td>Vw Volkswagen Fox 1.0</td>\n",
       "      <td>Mato Grosso do Sul</td>\n",
       "      <td>Mato Grosso do Sul</td>\n",
       "      <td>MS</td>\n",
       "      <td>1.01</td>\n",
       "      <td>0</td>\n",
       "      <td>...</td>\n",
       "      <td>0</td>\n",
       "      <td>0</td>\n",
       "      <td>0</td>\n",
       "      <td>0</td>\n",
       "      <td>0</td>\n",
       "      <td>0.0</td>\n",
       "      <td>0</td>\n",
       "      <td>0.0</td>\n",
       "      <td>0</td>\n",
       "      <td>0</td>\n",
       "    </tr>\n",
       "    <tr>\n",
       "      <th>3</th>\n",
       "      <td>Male</td>\n",
       "      <td>&gt;55</td>\n",
       "      <td>2004.0</td>\n",
       "      <td>Harley-davidson - Fat Boy</td>\n",
       "      <td>Harley-davidson Motos - Todas</td>\n",
       "      <td>Met. Porto Alegre e Caxias do Sul</td>\n",
       "      <td>Rio Grande do Sul</td>\n",
       "      <td>RS</td>\n",
       "      <td>1.45</td>\n",
       "      <td>0</td>\n",
       "      <td>...</td>\n",
       "      <td>0</td>\n",
       "      <td>0</td>\n",
       "      <td>0</td>\n",
       "      <td>0</td>\n",
       "      <td>0</td>\n",
       "      <td>0.0</td>\n",
       "      <td>0</td>\n",
       "      <td>0.0</td>\n",
       "      <td>0</td>\n",
       "      <td>0</td>\n",
       "    </tr>\n",
       "    <tr>\n",
       "      <th>4</th>\n",
       "      <td>Male</td>\n",
       "      <td>36-45</td>\n",
       "      <td>2009.0</td>\n",
       "      <td>Volvo - Fh 440 6x2 2p (diesel)</td>\n",
       "      <td>Volvo Caminhoes - Todos</td>\n",
       "      <td>Ribeirao Preto e Demais Mun. de Campinas</td>\n",
       "      <td>Sao Paulo</td>\n",
       "      <td>SP</td>\n",
       "      <td>4.55</td>\n",
       "      <td>0</td>\n",
       "      <td>...</td>\n",
       "      <td>0</td>\n",
       "      <td>1</td>\n",
       "      <td>0</td>\n",
       "      <td>0</td>\n",
       "      <td>0</td>\n",
       "      <td>0.0</td>\n",
       "      <td>648</td>\n",
       "      <td>0.0</td>\n",
       "      <td>0</td>\n",
       "      <td>0</td>\n",
       "    </tr>\n",
       "  </tbody>\n",
       "</table>\n",
       "<p>5 rows × 23 columns</p>\n",
       "</div>"
      ],
      "text/plain": [
       "   Gender DrivAge  VehYear                                           VehModel  \\\n",
       "0  Female     >55   1997.0          Gm - Chevrolet - Kadett Gl 2.0 Mpfi / Efi   \n",
       "1  Female   36-45   2010.0  Gm - Chevrolet - Montana 1.4 8v Conquest Econo...   \n",
       "2  Female   18-25   2008.0  Vw - Volkswagen - Fox City 1.0mi/ 1.0mi Total ...   \n",
       "3    Male     >55   2004.0                          Harley-davidson - Fat Boy   \n",
       "4    Male   36-45   2009.0                     Volvo - Fh 440 6x2 2p (diesel)   \n",
       "\n",
       "                        VehGroup                                      Area  \\\n",
       "0            Gm Chevrolet Kadett                                  Interior   \n",
       "1           Gm Chevrolet Montana                                  Maranhao   \n",
       "2          Vw Volkswagen Fox 1.0                        Mato Grosso do Sul   \n",
       "3  Harley-davidson Motos - Todas         Met. Porto Alegre e Caxias do Sul   \n",
       "4        Volvo Caminhoes - Todos  Ribeirao Preto e Demais Mun. de Campinas   \n",
       "\n",
       "                State StateAb  ExposTotal  ExposFireRob        ...         \\\n",
       "0      Rio de Janeiro      RJ        1.01             0        ...          \n",
       "1            Maranhao      MA        3.00             0        ...          \n",
       "2  Mato Grosso do Sul      MS        1.01             0        ...          \n",
       "3   Rio Grande do Sul      RS        1.45             0        ...          \n",
       "4           Sao Paulo      SP        4.55             0        ...          \n",
       "\n",
       "   ClaimNbRob  ClaimNbPartColl  ClaimNbTotColl  ClaimNbFire  ClaimNbOther  \\\n",
       "0           0                0               0            0             0   \n",
       "1           0                0               0            0             0   \n",
       "2           0                0               0            0             0   \n",
       "3           0                0               0            0             0   \n",
       "4           0                1               0            0             0   \n",
       "\n",
       "   ClaimAmountRob  ClaimAmountPartColl  ClaimAmountTotColl  ClaimAmountFire  \\\n",
       "0             0.0                    0                 0.0                0   \n",
       "1             0.0                    0                 0.0                0   \n",
       "2             0.0                    0                 0.0                0   \n",
       "3             0.0                    0                 0.0                0   \n",
       "4             0.0                  648                 0.0                0   \n",
       "\n",
       "   ClaimAmountOther  \n",
       "0                 0  \n",
       "1                 0  \n",
       "2                 0  \n",
       "3                 0  \n",
       "4                 0  \n",
       "\n",
       "[5 rows x 23 columns]"
      ]
     },
     "execution_count": 4,
     "metadata": {},
     "output_type": "execute_result"
    }
   ],
   "source": [
    "# Check the head and the info of the features.\n",
    "brevehins.info()\n",
    "brevehins.head(5)"
   ]
  },
  {
   "cell_type": "markdown",
   "metadata": {},
   "source": [
    "## 2) Missing Data\n",
    "\n",
    "Check for missing data"
   ]
  },
  {
   "cell_type": "code",
   "execution_count": 5,
   "metadata": {
    "collapsed": false
   },
   "outputs": [
    {
     "data": {
      "text/plain": [
       "Gender                  88189\n",
       "DrivAge                284948\n",
       "VehYear                     4\n",
       "VehModel               120515\n",
       "VehGroup               120515\n",
       "Area                       13\n",
       "State                      13\n",
       "StateAb                    13\n",
       "ExposTotal                  0\n",
       "ExposFireRob                0\n",
       "PremTotal                   0\n",
       "PremFireRob                 0\n",
       "SumInsAvg                   0\n",
       "ClaimNbRob                  0\n",
       "ClaimNbPartColl             0\n",
       "ClaimNbTotColl              0\n",
       "ClaimNbFire                 0\n",
       "ClaimNbOther                0\n",
       "ClaimAmountRob              0\n",
       "ClaimAmountPartColl         0\n",
       "ClaimAmountTotColl          0\n",
       "ClaimAmountFire             0\n",
       "ClaimAmountOther            0\n",
       "dtype: int64"
      ]
     },
     "execution_count": 5,
     "metadata": {},
     "output_type": "execute_result"
    }
   ],
   "source": [
    "# count the frequency of nulls \n",
    "brevehins.isnull().sum(axis=0)"
   ]
  },
  {
   "cell_type": "markdown",
   "metadata": {},
   "source": [
    "### 2.1) We can use seaborn to create a simple heatmap to the missing data!"
   ]
  },
  {
   "cell_type": "code",
   "execution_count": 5,
   "metadata": {
    "collapsed": false
   },
   "outputs": [
    {
     "data": {
      "text/plain": [
       "<matplotlib.axes._subplots.AxesSubplot at 0xc2e94e0>"
      ]
     },
     "execution_count": 5,
     "metadata": {},
     "output_type": "execute_result"
    },
    {
     "data": {
      "image/png": "[encoded data removed]",
      "text/plain": [
       "<matplotlib.figure.Figure at 0x1f7b4f60>"
      ]
     },
     "metadata": {},
     "output_type": "display_data"
    }
   ],
   "source": [
    "sns.heatmap(brevehins[[\"Gender\",\"DrivAge\",\"VehModel\",\"VehGroup\",\"State\"]].isnull(),yticklabels=False,cbar=False,cmap='viridis')"
   ]
  },
  {
   "cell_type": "markdown",
   "metadata": {},
   "source": [
    "### Discussion on missing data.\n",
    "\n",
    "\n",
    "Roughly 7~8% of DrivAge data is missing, while the missing Gender data and VehModel and VehGroup is even less. Since, datapoint is in order of millions dropping the Nan value will not cost us loss of information. Imputation based on KNN, or means may skew the result a bit and thus its safe to drop the missing data."
   ]
  },
  {
   "cell_type": "markdown",
   "metadata": {},
   "source": [
    "### 2.2) Drop the mising data"
   ]
  },
  {
   "cell_type": "code",
   "execution_count": 6,
   "metadata": {
    "collapsed": true
   },
   "outputs": [],
   "source": [
    "brevehins = brevehins.dropna()"
   ]
  },
  {
   "cell_type": "markdown",
   "metadata": {},
   "source": [
    "## 3) Examine Dataframe\n",
    "\n",
    "### Let the ETL Process commence:"
   ]
  },
  {
   "cell_type": "code",
   "execution_count": 7,
   "metadata": {
    "collapsed": false
   },
   "outputs": [
    {
     "name": "stdout",
     "output_type": "stream",
     "text": [
      "----------\n",
      "object\n",
      "Male         796222\n",
      "Female       597645\n",
      "Corporate    154389\n",
      "Name: Gender, dtype: int64\n",
      "Name:  Gender\n",
      "----------\n",
      "object\n",
      "36-45    394277\n",
      "46-55    365885\n",
      ">55      357235\n",
      "26-35    312257\n",
      "18-25    118602\n",
      "Name: DrivAge, dtype: int64\n",
      "Name:  DrivAge\n",
      "----------\n",
      "float64\n",
      "count    1.548256e+06\n",
      "mean     2.005005e+03\n",
      "std      6.428329e+00\n",
      "min      0.000000e+00\n",
      "25%      2.002000e+03\n",
      "50%      2.006000e+03\n",
      "75%      2.009000e+03\n",
      "max      2.012000e+03\n",
      "Name: VehYear, dtype: float64\n",
      "----------\n",
      "object\n",
      "Outros                                                        18659\n",
      "Fiat - Uno Mille 1.0 Fire/ F.flex/ Economy 4p                  7360\n",
      "Toyota - Corolla Xei 1.8/1.8 Flex 16v Aut.                     6675\n",
      "Fiat - Uno Mille 1.0 Fire/ F.flex/ Economy 2p                  6553\n",
      "Ford - Ecosport Xlt 1.6/ 1.6 Flex 8v 5p                        6519\n",
      "Ford - Ecosport Xls 1.6/ 1.6 Flex 8v 5p                        6486\n",
      "Vw - Volkswagen - Gol City (trend) 1.0 Mi Total Flex 8v 4p     5882\n",
      "Fiat - Siena 1.0/ Ex 1.0 Mpi Fire/ Fire Flex 8v                5621\n",
      "Fiat - Palio 1.0/ Trofeo 1.0 Fire/ Fire Flex 4p                5503\n",
      "Toyota - Corolla Xei 1.8/1.8 Flex 16v Mec.                     5310\n",
      "Vw - Volkswagen - Fox City 1.0 Mi/ 1.0mi Total Flex 8v 4p      5223\n",
      "Fiat - Palio Elx 1.0 Mpi Fire/ Fire Flex 8v 4p                 4978\n",
      "Vw - Volkswagen - Crossfox 1.6 Mi Total Flex 8v 5p             4977\n",
      "Ford - Focus 1.6/ 1.6 Flex 8v  5p                              4889\n",
      "Ford - Fiesta Sed. 1.6 8v Flex 4p                              4767\n",
      "Honda - Fit Lx 1.4/ 1.4 Flex 8v/16v 5p Mec.                    4644\n",
      "Ford - Ecosport Xlt Freestyle 1.6 Flex 8v 5p                   4611\n",
      "Vw - Volkswagen - Polo Sedan 1.6 Mi Total Flex 8v 4p           4592\n",
      "Citroen - C3 Glx 1.4/ 1.4 Flex 8v 5p                           4568\n",
      "Gm - Chevrolet - Celta Life 1.0 Mpfi 8v Flexpower 3p           4533\n",
      "Peugeot - 307 Soleil/ Presence 1.6/1.6 Flex 16v 5p             4521\n",
      "Toyota - Corolla Se-g 1.8/1.8 Flex 16v Aut.                    4508\n",
      "Gm - Chevrolet - Celta Life 1.0 Mpfi 8v Flexpower 5p           4472\n",
      "Vw - Volkswagen - Gol City (trend) 1.0 Mi Total Flex 8v 2p     4453\n",
      "Ford - Courier 1.6 L/ 1.6 Flex                                 4440\n",
      "Vw - Volkswagen - Polo 1.6 Mi/s.ouro 1.6 Mi Tot.flex 8v 5p     4379\n",
      "Vw - Volkswagen - Gol 1.6 Mi Power Total Flex 8v 4p            4333\n",
      "Gm - Chevrolet - Corsa Sed Class.life 1.0/1.0 Flexpower        4293\n",
      "Fiat - Palio 1.0/ Trofeo 1.0 Fire/ Fire Flex 2p                4267\n",
      "Fiat - Fiorino Furg.1.5/1.3/1.3 Fire/1.3 F.flex                4265\n",
      "                                                              ...  \n",
      "Dayun - Dy150zh   (triciclo Carga)                                1\n",
      "Peugeot - 205 Cj Cabriolet                                        1\n",
      "Ford - Cargo 2324 3-eixos 2p (diesel)                             1\n",
      "Scania - R-124 Ga 360 6x2 Nz 2p (diesel)                          1\n",
      "Agrale - 1800 D-rs 2p (diesel)                                    1\n",
      "Scania - T-124 La 420 4x2 Na 2p (diesel)                          1\n",
      "Agrale - Marrua Am 200 2.8 140cv Cs Tdi Diesel                    1\n",
      "Mitsubishi - Pajero Glz 2.8 4x4 Turbo Diesel                      1\n",
      "Volvo - Nl-12 410 Edc Gold 4x2 2p (diesel)                        1\n",
      "Aprilia - Rs 250cc                                                1\n",
      "Scania - G-440 A 6x4 2p (diesel)                                  1\n",
      "Honda - Nx 150                                                    1\n",
      "Mitsubishi - Mirage Ls                                            1\n",
      "Toyota - Celica Gt 2.2 16v                                        1\n",
      "Volvo - S70 R Aut.                                                1\n",
      "Volkswagen - 11-140 3-eixos 2p (diesel)                           1\n",
      "Mercedes-benz - E-200 Classic 2.0                                 1\n",
      "Mazda - 626 Sedan Aut.                                            1\n",
      "Agrale - Tchau 50                                                 1\n",
      "Honda - Cbx 750 R                                                 1\n",
      "Asia Motors - Towner Glass Van                                    1\n",
      "Ducati - Ss 900cc                                                 1\n",
      "Saab-scania - R-142 Hs 450 4x2 2p (diesel)                        1\n",
      "Mvk - Spyder 270                                                  1\n",
      "Audi - A6 2.4 Avant 30v Mec.                                      1\n",
      "Mercedes-benz - 1414 2p (diesel)                                  1\n",
      "Ferrari - 355 Gts                                                 1\n",
      "Ferrari - 360 Spider 400cv                                        1\n",
      "Nissan - Maxima Se 3.0 V6                                         1\n",
      "Pontiac - Trans-sport Se 3.1                                      1\n",
      "Name: VehModel, dtype: int64\n",
      "Name:  VehModel\n",
      "----------\n",
      "object\n",
      "Vw Volkswagen Gol 1.0                44374\n",
      "Fiat Palio 1.0                       43132\n",
      "Gm Chevrolet Corsa 1.0               38466\n",
      "Gm Chevrolet S-10                    34842\n",
      "Ford Eco Sport                       34443\n",
      "Peugeot 206                          32569\n",
      "Fiat Uno 1.0                         32008\n",
      "Toyota Corolla                       30937\n",
      "Gm Chevrolet Astra                   30243\n",
      "Gm Chevrolet Corsa Acima De 1.0      29016\n",
      "Renault Clio 1.0                     28940\n",
      "Gm Chevrolet Celta 1.0               27483\n",
      "Gm Chevrolet Vectra                  27215\n",
      "Fiat Strada                          26948\n",
      "Vw Volkswagen Gol Acima De 1.0       26508\n",
      "Toyota Hilux                         25786\n",
      "Ford Focus                           25114\n",
      "Ford Fiesta 1.0                      24838\n",
      "Honda Civic                          22984\n",
      "Mitsubishi Pajero                    22721\n",
      "Honda Fit                            21416\n",
      "Fiat Palio Weekend                   21217\n",
      "Ford Ranger                          21186\n",
      "Vw Volkswagen Polo                   21140\n",
      "Mitsubishi - Outros                  20734\n",
      "Mercedes-benz Caminhoes - Outros     19341\n",
      "Outros                               18659\n",
      "Vw Volkswagen Saveiro                18558\n",
      "Vw Volkswagen Parati Acima De 1.0    17758\n",
      "Volkswagen Caminhoes - Todos         17734\n",
      "                                     ...  \n",
      "Citroen Ax                               3\n",
      "Troller Pantanal                         3\n",
      "Ford Crown Vitoria                       3\n",
      "Gm Chevrolet Sonoma                      3\n",
      "Kahena                                   2\n",
      "Lobini                                   2\n",
      "Dayang                                   2\n",
      "Gm Chevrolet Cavalier                    2\n",
      "Ford Expedition                          2\n",
      "Bimota Motos - Todas                     2\n",
      "Lada Samara                              2\n",
      "Moto Guzzi Motos Acima De 450cc          2\n",
      "Matra - Todos                            1\n",
      "Dodge Avenger                            1\n",
      "Agrale Motos - Todas                     1\n",
      "Ciccobus Alleanza                        1\n",
      "Asprilia Motos Ate 450cc                 1\n",
      "Gm Chevrolet Sierra                      1\n",
      "Mercury - Todos                          1\n",
      "Am Gen                                   1\n",
      "Fibravan                                 1\n",
      "Dodge Stealth                            1\n",
      "Ford Aerostar                            1\n",
      "Fiat Bravo                               1\n",
      "Honda Passport                           1\n",
      "Audi S8                                  1\n",
      "Mitsubishi Mirage                        1\n",
      "Ford Thunderbird                         1\n",
      "Ford Aspire                              1\n",
      "Hyundai Scoupe                           1\n",
      "Name: VehGroup, dtype: int64\n",
      "Name:  VehGroup\n",
      "----------\n",
      "object\n",
      "Met. de Sao Paulo                             118678\n",
      "Demais regioes                                117414\n",
      "Ribeirao Preto e Demais Mun. de Campinas       95756\n",
      "Met. do Rio de Janeiro                         73622\n",
      "Met. Porto Alegre e Caxias do Sul              71338\n",
      "Met. Curitiba                                  69807\n",
      "Met.BH-Centro Oeste-Zona Mata-C. Vertentes     64117\n",
      "Grande Campinas                                60650\n",
      "Blumenau e demais regioes                      60211\n",
      "Vale do Paraiba e Ribeira                      53233\n",
      "Met. Florianopolis e Sul                       46383\n",
      "Brasilia                                       45803\n",
      "Bahia                                          45541\n",
      "Goias                                          43088\n",
      "Interior                                       41542\n",
      "Triangulo mineiro                              40567\n",
      "Pernambuco                                     36415\n",
      "Espirito Santo                                 35874\n",
      "Sul                                            34619\n",
      "F.Iguatu-Medianeira-Cascavel-Toledo            33674\n",
      "Oeste                                          33502\n",
      "Ceara                                          31480\n",
      "Mato Grosso do Sul                             27752\n",
      "Mato Grosso                                    27064\n",
      "Litoral Norte e Baixada Santista               26977\n",
      "Rio Grande do Norte                            22522\n",
      "Para                                           22349\n",
      "Paraiba                                        20315\n",
      "Alagoas                                        20222\n",
      "Vale do Aco-Norte-Vale Jequitinhonha           20086\n",
      "Maranhao                                       18225\n",
      "Sergipe                                        17771\n",
      "Amazonas                                       14889\n",
      "Piaui                                          14303\n",
      "Tocantins                                      13156\n",
      "Sudeste de Goias                               12689\n",
      "Acre                                            5451\n",
      "Amapa                                           4118\n",
      "Roraima                                         3599\n",
      "Rondonia                                        3454\n",
      "Name: Area, dtype: int64\n",
      "Name:  Area\n",
      "----------\n",
      "object\n",
      "Sao Paulo              355294\n",
      "Minas Gerais           159389\n",
      "Parana                 158040\n",
      "Santa Catarina         140096\n",
      "Rio Grande do Sul      134193\n",
      "Rio de Janeiro         115164\n",
      "Goias                   55777\n",
      "Distrito Federal        45803\n",
      "Bahia                   45541\n",
      "Pernambuco              36415\n",
      "Esperito Santo          35874\n",
      "Ceara                   31480\n",
      "Mato Grosso do Sul      27752\n",
      "Mato Grosso             27064\n",
      "Rio Grande do Norte     22522\n",
      "Para                    22349\n",
      "Paraiba                 20315\n",
      "Alagoas                 20222\n",
      "Maranhao                18225\n",
      "Sergipe                 17771\n",
      "Amazonas                14889\n",
      "Piaui                   14303\n",
      "Tocantins               13156\n",
      "Acre                     5451\n",
      "Amapa                    4118\n",
      "Roraima                  3599\n",
      "Rondonia                 3454\n",
      "Name: State, dtype: int64\n",
      "Name:  State\n",
      "----------\n",
      "object\n",
      "SP    355294\n",
      "MG    159389\n",
      "PR    158040\n",
      "SC    140096\n",
      "RS    134193\n",
      "RJ    115164\n",
      "GO     55777\n",
      "DF     45803\n",
      "BA     45541\n",
      "PE     36415\n",
      "ES     35874\n",
      "CE     31480\n",
      "MS     27752\n",
      "MT     27064\n",
      "RN     22522\n",
      "PA     22349\n",
      "PB     20315\n",
      "AL     20222\n",
      "MA     18225\n",
      "SE     17771\n",
      "AM     14889\n",
      "PI     14303\n",
      "TO     13156\n",
      "AC      5451\n",
      "AP      4118\n",
      "RR      3599\n",
      "RO      3454\n",
      "Name: StateAb, dtype: int64\n",
      "Name:  StateAb\n",
      "----------\n",
      "float64\n",
      "count    1.548256e+06\n",
      "mean     3.481683e+00\n",
      "std      1.659652e+01\n",
      "min      0.000000e+00\n",
      "25%      4.600000e-01\n",
      "50%      6.300000e-01\n",
      "75%      2.010000e+00\n",
      "max      8.078440e+03\n",
      "Name: ExposTotal, dtype: float64\n",
      "----------\n",
      "int64\n",
      "count    1548256.0\n",
      "mean           0.0\n",
      "std            0.0\n",
      "min            0.0\n",
      "25%            0.0\n",
      "50%            0.0\n",
      "75%            0.0\n",
      "max            0.0\n",
      "Name: ExposFireRob, dtype: float64\n",
      "----------\n",
      "float64\n",
      "count    1.548256e+06\n",
      "mean     3.804063e+03\n",
      "std      1.686280e+04\n",
      "min      0.000000e+00\n",
      "25%      3.797100e+02\n",
      "50%      9.338500e+02\n",
      "75%      2.579710e+03\n",
      "max      6.478755e+06\n",
      "Name: PremTotal, dtype: float64\n",
      "----------\n",
      "int64\n",
      "count    1548256.0\n",
      "mean           0.0\n",
      "std            0.0\n",
      "min            0.0\n",
      "25%            0.0\n",
      "50%            0.0\n",
      "75%            0.0\n",
      "max            0.0\n",
      "Name: PremFireRob, dtype: float64\n",
      "----------\n",
      "float64\n",
      "count    1.548256e+06\n",
      "mean     3.791962e+04\n",
      "std      3.553271e+04\n",
      "min      0.000000e+00\n",
      "25%      1.885932e+04\n",
      "50%      2.886461e+04\n",
      "75%      4.556369e+04\n",
      "max      1.307270e+06\n",
      "Name: SumInsAvg, dtype: float64\n",
      "----------\n",
      "int64\n",
      "count    1.548256e+06\n",
      "mean     2.847074e-02\n",
      "std      2.670453e-01\n",
      "min      0.000000e+00\n",
      "25%      0.000000e+00\n",
      "50%      0.000000e+00\n",
      "75%      0.000000e+00\n",
      "max      9.000000e+01\n",
      "Name: ClaimNbRob, dtype: float64\n",
      "----------\n",
      "int64\n",
      "count    1.548256e+06\n",
      "mean     2.154088e-01\n",
      "std      1.294352e+00\n",
      "min      0.000000e+00\n",
      "25%      0.000000e+00\n",
      "50%      0.000000e+00\n",
      "75%      0.000000e+00\n",
      "max      7.010000e+02\n",
      "Name: ClaimNbPartColl, dtype: float64\n",
      "----------\n",
      "int64\n",
      "count    1.548256e+06\n",
      "mean     1.769927e-02\n",
      "std      1.533308e-01\n",
      "min      0.000000e+00\n",
      "25%      0.000000e+00\n",
      "50%      0.000000e+00\n",
      "75%      0.000000e+00\n",
      "max      6.600000e+01\n",
      "Name: ClaimNbTotColl, dtype: float64\n",
      "----------\n",
      "int64\n",
      "count    1.548256e+06\n",
      "mean     7.879834e-04\n",
      "std      2.958384e-02\n",
      "min      0.000000e+00\n",
      "25%      0.000000e+00\n",
      "50%      0.000000e+00\n",
      "75%      0.000000e+00\n",
      "max      6.000000e+00\n",
      "Name: ClaimNbFire, dtype: float64\n",
      "----------\n",
      "int64\n",
      "count    1.548256e+06\n",
      "mean     5.555961e-01\n",
      "std      5.550936e+00\n",
      "min      0.000000e+00\n",
      "25%      0.000000e+00\n",
      "50%      0.000000e+00\n",
      "75%      0.000000e+00\n",
      "max      1.278000e+03\n",
      "Name: ClaimNbOther, dtype: float64\n",
      "----------\n",
      "float64\n",
      "count    1.548256e+06\n",
      "mean     6.691723e+02\n",
      "std      6.816691e+03\n",
      "min      0.000000e+00\n",
      "25%      0.000000e+00\n",
      "50%      0.000000e+00\n",
      "75%      0.000000e+00\n",
      "max      7.899140e+05\n",
      "Name: ClaimAmountRob, dtype: float64\n",
      "----------\n",
      "int64\n",
      "count    1.548256e+06\n",
      "mean     7.748278e+02\n",
      "std      5.271064e+03\n",
      "min      0.000000e+00\n",
      "25%      0.000000e+00\n",
      "50%      0.000000e+00\n",
      "75%      0.000000e+00\n",
      "max      2.289213e+06\n",
      "Name: ClaimAmountPartColl, dtype: float64\n",
      "----------\n",
      "float64\n",
      "count    1.548256e+06\n",
      "mean     5.360350e+02\n",
      "std      5.420098e+03\n",
      "min      0.000000e+00\n",
      "25%      0.000000e+00\n",
      "50%      0.000000e+00\n",
      "75%      0.000000e+00\n",
      "max      2.201873e+06\n",
      "Name: ClaimAmountTotColl, dtype: float64\n",
      "----------\n",
      "int64\n",
      "count    1.548256e+06\n",
      "mean     1.460999e+01\n",
      "std      8.232931e+02\n",
      "min      0.000000e+00\n",
      "25%      0.000000e+00\n",
      "50%      0.000000e+00\n",
      "75%      0.000000e+00\n",
      "max      2.104360e+05\n",
      "Name: ClaimAmountFire, dtype: float64\n",
      "----------\n",
      "int64\n",
      "count    1.548256e+06\n",
      "mean     1.243691e+02\n",
      "std      1.843590e+03\n",
      "min      0.000000e+00\n",
      "25%      0.000000e+00\n",
      "50%      0.000000e+00\n",
      "75%      0.000000e+00\n",
      "max      3.877410e+05\n",
      "Name: ClaimAmountOther, dtype: float64\n"
     ]
    }
   ],
   "source": [
    "def examine_data_frame( df):\n",
    "    for name in df.columns:\n",
    "        print \"----------\"\n",
    "        print df[ name].dtype\n",
    "        if df[ name].dtype is np.dtype( 'O'):\n",
    "            print df[ name].value_counts()\n",
    "            print \"Name: \", name\n",
    "        else:\n",
    "            print df[ name].describe()\n",
    "\n",
    "examine_data_frame(brevehins)"
   ]
  },
  {
   "cell_type": "markdown",
   "metadata": {},
   "source": [
    "### 3.1) Purpose: I will be investigating whether a policy holder will file a large claim? (greater than the median in monetary terms)\n",
    "\n",
    "The sum of all claims, <b>SumofClaims</b> for each policy holder during the exposure period is calculated (for robbery, partial collision, total collision, ﬁre and other guarantees).\n",
    "\n",
    "\n",
    "The sum of all claims amount, <b>SumofClaimsAmt</b> for each policy holder during the exposure period is calculated (for robbery, partial collision, total collision, ﬁre and other guarantees).\n",
    "\n",
    "The amount per claim, <b>AmtperClaim</b> for each policy holder during the exposure period is calculated by dividing SumofClaimsAmt by SumofClaims.\n",
    "\n",
    "\n",
    "The motivation to combine the claims stems from the fact that by individualy treating each set of claims would be a tedious task. Though a lot of insight could be obtained by treating each claims set individually."
   ]
  },
  {
   "cell_type": "code",
   "execution_count": 8,
   "metadata": {
    "collapsed": false
   },
   "outputs": [],
   "source": [
    "# Sum of all claims.\n",
    "\n",
    "brevehins['SumofClaims'] = brevehins[\"ClaimNbRob\"] + brevehins[\"ClaimNbPartColl\"]+ \\\n",
    "                        brevehins[\"ClaimNbTotColl\"] + brevehins[\"ClaimNbFire\"] + brevehins[\"ClaimNbOther\"]\n",
    "    \n",
    "# Sum of claim amount.\n",
    "\n",
    "brevehins['SumofClaimsAmt'] = brevehins[\"ClaimAmountRob\"] + brevehins[\"ClaimAmountPartColl\"]+ \\\n",
    "                        brevehins[\"ClaimAmountTotColl\"] + brevehins[\"ClaimAmountFire\"] + brevehins[\"ClaimAmountOther\"]\n",
    "    \n",
    "    \n",
    "# Compute AmtperClaim only when, SumofCalims is non zero.\n",
    "\n",
    "def is_sum_zero(x,y):\n",
    "    if y>0:\n",
    "        return(x/y)\n",
    "    else:\n",
    "        return 0\n",
    "    \n",
    "\n",
    "# Append to dataframe\n",
    "brevehins['AmtperClaim'] = np.vectorize(is_sum_zero)(brevehins[\"SumofClaimsAmt\"], brevehins[\"SumofClaims\"])"
   ]
  },
  {
   "cell_type": "code",
   "execution_count": 9,
   "metadata": {
    "collapsed": false
   },
   "outputs": [
    {
     "data": {
      "text/plain": [
       "0     1261063\n",
       "67      16728\n",
       "36       9535\n",
       "80       4065\n",
       "60       2788\n",
       "Name: AmtperClaim, dtype: int64"
      ]
     },
     "execution_count": 9,
     "metadata": {},
     "output_type": "execute_result"
    }
   ],
   "source": [
    "# check top 5 frequency of sum of amount per calims by policy holders\n",
    "values = brevehins['AmtperClaim'].value_counts()\n",
    "values.head(5)"
   ]
  },
  {
   "cell_type": "code",
   "execution_count": 10,
   "metadata": {
    "collapsed": false
   },
   "outputs": [
    {
     "data": {
      "text/plain": [
       "count    1.548256e+06\n",
       "mean     9.060002e+02\n",
       "std      5.238444e+03\n",
       "min      0.000000e+00\n",
       "25%      0.000000e+00\n",
       "50%      0.000000e+00\n",
       "75%      0.000000e+00\n",
       "max      6.224830e+05\n",
       "Name: AmtperClaim, dtype: float64"
      ]
     },
     "execution_count": 10,
     "metadata": {},
     "output_type": "execute_result"
    }
   ],
   "source": [
    "brevehins['AmtperClaim'].describe()\n"
   ]
  },
  {
   "cell_type": "markdown",
   "metadata": {},
   "source": [
    "### Conclusion: \n",
    "\n",
    "Amount per claim median value is zero, of the entire population of the policy holders, 1261063 number of policy holders have zero amount in claims."
   ]
  },
  {
   "cell_type": "code",
   "execution_count": 11,
   "metadata": {
    "collapsed": false
   },
   "outputs": [
    {
     "data": {
      "text/html": [
       "<div>\n",
       "<table border=\"1\" class=\"dataframe\">\n",
       "  <thead>\n",
       "    <tr style=\"text-align: right;\">\n",
       "      <th></th>\n",
       "      <th>Gender</th>\n",
       "      <th>DrivAge</th>\n",
       "      <th>AmtperClaim</th>\n",
       "    </tr>\n",
       "  </thead>\n",
       "  <tbody>\n",
       "    <tr>\n",
       "      <th>0</th>\n",
       "      <td>Corporate</td>\n",
       "      <td>18-25</td>\n",
       "      <td>0</td>\n",
       "    </tr>\n",
       "    <tr>\n",
       "      <th>1</th>\n",
       "      <td>Corporate</td>\n",
       "      <td>26-35</td>\n",
       "      <td>0</td>\n",
       "    </tr>\n",
       "    <tr>\n",
       "      <th>2</th>\n",
       "      <td>Corporate</td>\n",
       "      <td>36-45</td>\n",
       "      <td>0</td>\n",
       "    </tr>\n",
       "    <tr>\n",
       "      <th>3</th>\n",
       "      <td>Corporate</td>\n",
       "      <td>46-55</td>\n",
       "      <td>0</td>\n",
       "    </tr>\n",
       "    <tr>\n",
       "      <th>4</th>\n",
       "      <td>Corporate</td>\n",
       "      <td>&gt;55</td>\n",
       "      <td>0</td>\n",
       "    </tr>\n",
       "    <tr>\n",
       "      <th>5</th>\n",
       "      <td>Female</td>\n",
       "      <td>18-25</td>\n",
       "      <td>0</td>\n",
       "    </tr>\n",
       "    <tr>\n",
       "      <th>6</th>\n",
       "      <td>Female</td>\n",
       "      <td>26-35</td>\n",
       "      <td>0</td>\n",
       "    </tr>\n",
       "    <tr>\n",
       "      <th>7</th>\n",
       "      <td>Female</td>\n",
       "      <td>36-45</td>\n",
       "      <td>0</td>\n",
       "    </tr>\n",
       "    <tr>\n",
       "      <th>8</th>\n",
       "      <td>Female</td>\n",
       "      <td>46-55</td>\n",
       "      <td>0</td>\n",
       "    </tr>\n",
       "    <tr>\n",
       "      <th>9</th>\n",
       "      <td>Female</td>\n",
       "      <td>&gt;55</td>\n",
       "      <td>0</td>\n",
       "    </tr>\n",
       "    <tr>\n",
       "      <th>10</th>\n",
       "      <td>Male</td>\n",
       "      <td>18-25</td>\n",
       "      <td>0</td>\n",
       "    </tr>\n",
       "    <tr>\n",
       "      <th>11</th>\n",
       "      <td>Male</td>\n",
       "      <td>26-35</td>\n",
       "      <td>0</td>\n",
       "    </tr>\n",
       "    <tr>\n",
       "      <th>12</th>\n",
       "      <td>Male</td>\n",
       "      <td>36-45</td>\n",
       "      <td>0</td>\n",
       "    </tr>\n",
       "    <tr>\n",
       "      <th>13</th>\n",
       "      <td>Male</td>\n",
       "      <td>46-55</td>\n",
       "      <td>0</td>\n",
       "    </tr>\n",
       "    <tr>\n",
       "      <th>14</th>\n",
       "      <td>Male</td>\n",
       "      <td>&gt;55</td>\n",
       "      <td>0</td>\n",
       "    </tr>\n",
       "  </tbody>\n",
       "</table>\n",
       "</div>"
      ],
      "text/plain": [
       "       Gender DrivAge  AmtperClaim\n",
       "0   Corporate   18-25            0\n",
       "1   Corporate   26-35            0\n",
       "2   Corporate   36-45            0\n",
       "3   Corporate   46-55            0\n",
       "4   Corporate     >55            0\n",
       "5      Female   18-25            0\n",
       "6      Female   26-35            0\n",
       "7      Female   36-45            0\n",
       "8      Female   46-55            0\n",
       "9      Female     >55            0\n",
       "10       Male   18-25            0\n",
       "11       Male   26-35            0\n",
       "12       Male   36-45            0\n",
       "13       Male   46-55            0\n",
       "14       Male     >55            0"
      ]
     },
     "execution_count": 11,
     "metadata": {},
     "output_type": "execute_result"
    }
   ],
   "source": [
    "# Group amount per claims by Gender and Driverage and calculate the median\n",
    "df = brevehins.groupby(by = ['Gender','DrivAge'],as_index=False)['AmtperClaim'].median()\n",
    "df"
   ]
  },
  {
   "cell_type": "markdown",
   "metadata": {},
   "source": [
    "### Conclusion:\n",
    "\n",
    "Median, as a metric is selected as it is a measure of central tendency and is not adversely influenced by extreme number.\n",
    "\n",
    "Since median is zero, a threshold of AmtperClaim>0 will be set for high claims.\n",
    "\n",
    "If the median of , <b>AmtperClaim >0 </b>, it will be treated as a high calim."
   ]
  },
  {
   "cell_type": "code",
   "execution_count": 12,
   "metadata": {
    "collapsed": false
   },
   "outputs": [],
   "source": [
    "# Large claims?\n",
    "def is_large_claims(x):\n",
    "    if x>0:\n",
    "        return 1\n",
    "    else:\n",
    "        return 0\n",
    "\n",
    "# append to dataframe\n",
    "brevehins['LargeClaims'] = np.vectorize(is_large_claims)(brevehins[\"AmtperClaim\"])"
   ]
  },
  {
   "cell_type": "code",
   "execution_count": 13,
   "metadata": {
    "collapsed": false
   },
   "outputs": [
    {
     "data": {
      "text/plain": [
       "0    1261063\n",
       "1     287193\n",
       "Name: LargeClaims, dtype: int64"
      ]
     },
     "execution_count": 13,
     "metadata": {},
     "output_type": "execute_result"
    }
   ],
   "source": [
    "brevehins['LargeClaims'].value_counts()"
   ]
  },
  {
   "cell_type": "markdown",
   "metadata": {},
   "source": [
    "### Conclusion:\n",
    "\n",
    "Of the total population, 18.5% of policy holders have filed for large claims."
   ]
  },
  {
   "cell_type": "markdown",
   "metadata": {},
   "source": [
    "## 4) Data Preprocessing.\n",
    "\n",
    "One hot encoding, to create dummy variable for the categorical values\n",
    "\n",
    "I will be using logistic regression, to model <b>LargeClaims</b> against the features. The reasoning behind choosing logistic regression are:\n",
    "\n",
    "1) Logistic regression is intrinsically simple, it has low variance and so is less prone to over-fitting.\n",
    "\n",
    "2) Easier to interpret coefficients."
   ]
  },
  {
   "cell_type": "markdown",
   "metadata": {},
   "source": [
    "### 4.1) Create dummy variable:\n",
    "\n",
    "Drop 'VehModel', 'VehGroup'. In order to reduce dimensionality of the dataframe and to make the process less memory intensive. "
   ]
  },
  {
   "cell_type": "code",
   "execution_count": 14,
   "metadata": {
    "collapsed": false
   },
   "outputs": [
    {
     "data": {
      "text/html": [
       "<div>\n",
       "<table border=\"1\" class=\"dataframe\">\n",
       "  <thead>\n",
       "    <tr style=\"text-align: right;\">\n",
       "      <th></th>\n",
       "      <th>Gender_Corporate</th>\n",
       "      <th>Gender_Female</th>\n",
       "      <th>Gender_Male</th>\n",
       "      <th>DrivAge_18-25</th>\n",
       "      <th>DrivAge_26-35</th>\n",
       "      <th>DrivAge_36-45</th>\n",
       "      <th>DrivAge_46-55</th>\n",
       "      <th>DrivAge_&gt;55</th>\n",
       "      <th>Area_Acre</th>\n",
       "      <th>Area_Alagoas</th>\n",
       "      <th>...</th>\n",
       "      <th>ClaimNbOther</th>\n",
       "      <th>ClaimAmountRob</th>\n",
       "      <th>ClaimAmountPartColl</th>\n",
       "      <th>ClaimAmountTotColl</th>\n",
       "      <th>ClaimAmountFire</th>\n",
       "      <th>ClaimAmountOther</th>\n",
       "      <th>SumofClaims</th>\n",
       "      <th>SumofClaimsAmt</th>\n",
       "      <th>AmtperClaim</th>\n",
       "      <th>LargeClaims</th>\n",
       "    </tr>\n",
       "  </thead>\n",
       "  <tbody>\n",
       "    <tr>\n",
       "      <th>0</th>\n",
       "      <td>0.0</td>\n",
       "      <td>1.0</td>\n",
       "      <td>0.0</td>\n",
       "      <td>0.0</td>\n",
       "      <td>0.0</td>\n",
       "      <td>0.0</td>\n",
       "      <td>0.0</td>\n",
       "      <td>1.0</td>\n",
       "      <td>0.0</td>\n",
       "      <td>0.0</td>\n",
       "      <td>...</td>\n",
       "      <td>0</td>\n",
       "      <td>0.0</td>\n",
       "      <td>0</td>\n",
       "      <td>0.0</td>\n",
       "      <td>0</td>\n",
       "      <td>0</td>\n",
       "      <td>0</td>\n",
       "      <td>0.0</td>\n",
       "      <td>0</td>\n",
       "      <td>0</td>\n",
       "    </tr>\n",
       "    <tr>\n",
       "      <th>1</th>\n",
       "      <td>0.0</td>\n",
       "      <td>1.0</td>\n",
       "      <td>0.0</td>\n",
       "      <td>0.0</td>\n",
       "      <td>0.0</td>\n",
       "      <td>1.0</td>\n",
       "      <td>0.0</td>\n",
       "      <td>0.0</td>\n",
       "      <td>0.0</td>\n",
       "      <td>0.0</td>\n",
       "      <td>...</td>\n",
       "      <td>0</td>\n",
       "      <td>0.0</td>\n",
       "      <td>0</td>\n",
       "      <td>0.0</td>\n",
       "      <td>0</td>\n",
       "      <td>0</td>\n",
       "      <td>0</td>\n",
       "      <td>0.0</td>\n",
       "      <td>0</td>\n",
       "      <td>0</td>\n",
       "    </tr>\n",
       "    <tr>\n",
       "      <th>2</th>\n",
       "      <td>0.0</td>\n",
       "      <td>1.0</td>\n",
       "      <td>0.0</td>\n",
       "      <td>1.0</td>\n",
       "      <td>0.0</td>\n",
       "      <td>0.0</td>\n",
       "      <td>0.0</td>\n",
       "      <td>0.0</td>\n",
       "      <td>0.0</td>\n",
       "      <td>0.0</td>\n",
       "      <td>...</td>\n",
       "      <td>0</td>\n",
       "      <td>0.0</td>\n",
       "      <td>0</td>\n",
       "      <td>0.0</td>\n",
       "      <td>0</td>\n",
       "      <td>0</td>\n",
       "      <td>0</td>\n",
       "      <td>0.0</td>\n",
       "      <td>0</td>\n",
       "      <td>0</td>\n",
       "    </tr>\n",
       "    <tr>\n",
       "      <th>3</th>\n",
       "      <td>0.0</td>\n",
       "      <td>0.0</td>\n",
       "      <td>1.0</td>\n",
       "      <td>0.0</td>\n",
       "      <td>0.0</td>\n",
       "      <td>0.0</td>\n",
       "      <td>0.0</td>\n",
       "      <td>1.0</td>\n",
       "      <td>0.0</td>\n",
       "      <td>0.0</td>\n",
       "      <td>...</td>\n",
       "      <td>0</td>\n",
       "      <td>0.0</td>\n",
       "      <td>0</td>\n",
       "      <td>0.0</td>\n",
       "      <td>0</td>\n",
       "      <td>0</td>\n",
       "      <td>0</td>\n",
       "      <td>0.0</td>\n",
       "      <td>0</td>\n",
       "      <td>0</td>\n",
       "    </tr>\n",
       "    <tr>\n",
       "      <th>4</th>\n",
       "      <td>0.0</td>\n",
       "      <td>0.0</td>\n",
       "      <td>1.0</td>\n",
       "      <td>0.0</td>\n",
       "      <td>0.0</td>\n",
       "      <td>1.0</td>\n",
       "      <td>0.0</td>\n",
       "      <td>0.0</td>\n",
       "      <td>0.0</td>\n",
       "      <td>0.0</td>\n",
       "      <td>...</td>\n",
       "      <td>0</td>\n",
       "      <td>0.0</td>\n",
       "      <td>648</td>\n",
       "      <td>0.0</td>\n",
       "      <td>0</td>\n",
       "      <td>0</td>\n",
       "      <td>1</td>\n",
       "      <td>648.0</td>\n",
       "      <td>648</td>\n",
       "      <td>1</td>\n",
       "    </tr>\n",
       "  </tbody>\n",
       "</table>\n",
       "<p>5 rows × 102 columns</p>\n",
       "</div>"
      ],
      "text/plain": [
       "   Gender_Corporate  Gender_Female  Gender_Male  DrivAge_18-25  DrivAge_26-35  \\\n",
       "0               0.0            1.0          0.0            0.0            0.0   \n",
       "1               0.0            1.0          0.0            0.0            0.0   \n",
       "2               0.0            1.0          0.0            1.0            0.0   \n",
       "3               0.0            0.0          1.0            0.0            0.0   \n",
       "4               0.0            0.0          1.0            0.0            0.0   \n",
       "\n",
       "   DrivAge_36-45  DrivAge_46-55  DrivAge_>55  Area_Acre  Area_Alagoas  \\\n",
       "0            0.0            0.0          1.0        0.0           0.0   \n",
       "1            1.0            0.0          0.0        0.0           0.0   \n",
       "2            0.0            0.0          0.0        0.0           0.0   \n",
       "3            0.0            0.0          1.0        0.0           0.0   \n",
       "4            1.0            0.0          0.0        0.0           0.0   \n",
       "\n",
       "      ...       ClaimNbOther  ClaimAmountRob  ClaimAmountPartColl  \\\n",
       "0     ...                  0             0.0                    0   \n",
       "1     ...                  0             0.0                    0   \n",
       "2     ...                  0             0.0                    0   \n",
       "3     ...                  0             0.0                    0   \n",
       "4     ...                  0             0.0                  648   \n",
       "\n",
       "   ClaimAmountTotColl  ClaimAmountFire  ClaimAmountOther  SumofClaims  \\\n",
       "0                 0.0                0                 0            0   \n",
       "1                 0.0                0                 0            0   \n",
       "2                 0.0                0                 0            0   \n",
       "3                 0.0                0                 0            0   \n",
       "4                 0.0                0                 0            1   \n",
       "\n",
       "   SumofClaimsAmt  AmtperClaim  LargeClaims  \n",
       "0             0.0            0            0  \n",
       "1             0.0            0            0  \n",
       "2             0.0            0            0  \n",
       "3             0.0            0            0  \n",
       "4           648.0          648            1  \n",
       "\n",
       "[5 rows x 102 columns]"
      ]
     },
     "execution_count": 14,
     "metadata": {},
     "output_type": "execute_result"
    }
   ],
   "source": [
    "# Create dummy variable for categorical values\n",
    "cols =['Gender','DrivAge','Area','StateAb']\n",
    "data_1 = brevehins[cols]\n",
    "data_dummies = pd.get_dummies(data_1)\n",
    "result_df = pd.concat([data_dummies, brevehins], axis=1)\n",
    "result_df.head()"
   ]
  },
  {
   "cell_type": "code",
   "execution_count": 15,
   "metadata": {
    "collapsed": false
   },
   "outputs": [
    {
     "data": {
      "text/plain": [
       "array(['Gender_Corporate', 'Gender_Female', 'Gender_Male', 'DrivAge_18-25',\n",
       "       'DrivAge_26-35', 'DrivAge_36-45', 'DrivAge_46-55', 'DrivAge_>55',\n",
       "       'Area_Acre', 'Area_Alagoas', 'Area_Amapa', 'Area_Amazonas',\n",
       "       'Area_Bahia', 'Area_Blumenau e demais regioes', 'Area_Brasilia',\n",
       "       'Area_Ceara', 'Area_Demais regioes', 'Area_Espirito Santo',\n",
       "       'Area_F.Iguatu-Medianeira-Cascavel-Toledo', 'Area_Goias',\n",
       "       'Area_Grande Campinas', 'Area_Interior',\n",
       "       'Area_Litoral Norte e Baixada Santista', 'Area_Maranhao',\n",
       "       'Area_Mato Grosso', 'Area_Mato Grosso do Sul', 'Area_Met. Curitiba',\n",
       "       'Area_Met. Florianopolis e Sul',\n",
       "       'Area_Met. Porto Alegre e Caxias do Sul', 'Area_Met. de Sao Paulo',\n",
       "       'Area_Met. do Rio de Janeiro',\n",
       "       'Area_Met.BH-Centro Oeste-Zona Mata-C. Vertentes', 'Area_Oeste',\n",
       "       'Area_Para', 'Area_Paraiba', 'Area_Pernambuco', 'Area_Piaui',\n",
       "       'Area_Ribeirao Preto e Demais Mun. de Campinas',\n",
       "       'Area_Rio Grande do Norte', 'Area_Rondonia', 'Area_Roraima',\n",
       "       'Area_Sergipe', 'Area_Sudeste de Goias', 'Area_Sul',\n",
       "       'Area_Tocantins', 'Area_Triangulo mineiro',\n",
       "       'Area_Vale do Aco-Norte-Vale Jequitinhonha',\n",
       "       'Area_Vale do Paraiba e Ribeira', 'StateAb_AC', 'StateAb_AL',\n",
       "       'StateAb_AM', 'StateAb_AP', 'StateAb_BA', 'StateAb_CE',\n",
       "       'StateAb_DF', 'StateAb_ES', 'StateAb_GO', 'StateAb_MA',\n",
       "       'StateAb_MG', 'StateAb_MS', 'StateAb_MT', 'StateAb_PA',\n",
       "       'StateAb_PB', 'StateAb_PE', 'StateAb_PI', 'StateAb_PR',\n",
       "       'StateAb_RJ', 'StateAb_RN', 'StateAb_RO', 'StateAb_RR',\n",
       "       'StateAb_RS', 'StateAb_SC', 'StateAb_SE', 'StateAb_SP',\n",
       "       'StateAb_TO', 'Gender', 'DrivAge', 'VehYear', 'VehModel',\n",
       "       'VehGroup', 'Area', 'State', 'StateAb', 'ExposTotal',\n",
       "       'ExposFireRob', 'PremTotal', 'PremFireRob', 'SumInsAvg',\n",
       "       'ClaimNbRob', 'ClaimNbPartColl', 'ClaimNbTotColl', 'ClaimNbFire',\n",
       "       'ClaimNbOther', 'ClaimAmountRob', 'ClaimAmountPartColl',\n",
       "       'ClaimAmountTotColl', 'ClaimAmountFire', 'ClaimAmountOther',\n",
       "       'SumofClaims', 'SumofClaimsAmt', 'AmtperClaim', 'LargeClaims'], dtype=object)"
      ]
     },
     "execution_count": 15,
     "metadata": {},
     "output_type": "execute_result"
    }
   ],
   "source": [
    "result_df.columns.values # Performed one-hot encoding so that I can use it in EDA"
   ]
  },
  {
   "cell_type": "markdown",
   "metadata": {},
   "source": [
    "## 5) Get insight by comparing output to features (EDA):"
   ]
  },
  {
   "cell_type": "markdown",
   "metadata": {},
   "source": [
    "### 5.1) Comparing Qualitative vs. Quantitative Analysis"
   ]
  },
  {
   "cell_type": "markdown",
   "metadata": {},
   "source": [
    "### 5.1.1 LargeClaims vs vehicle year"
   ]
  },
  {
   "cell_type": "code",
   "execution_count": 16,
   "metadata": {
    "collapsed": false
   },
   "outputs": [
    {
     "name": "stdout",
     "output_type": "stream",
     "text": [
      "                 count         mean        std     min     25%     50%  \\\n",
      "LargeClaims                                                              \n",
      "0            1261063.0  2004.834582   5.240599  1881.0  2002.0  2006.0   \n",
      "1             287193.0  2005.751220  10.074545     0.0  2004.0  2007.0   \n",
      "\n",
      "                75%     max  \n",
      "LargeClaims                  \n",
      "0            2009.0  2012.0  \n",
      "1            2009.0  2011.0  \n"
     ]
    }
   ],
   "source": [
    "grouped = result_df.groupby( \"LargeClaims\")\n",
    "veh_year = grouped[ \"VehYear\"].describe()\n",
    "veh_year = veh_year.unstack( level=-1)\n",
    "print veh_year"
   ]
  },
  {
   "cell_type": "markdown",
   "metadata": {},
   "source": [
    "<b>Conclusion:</b>\n",
    "\n",
    "Policy holders who file for large claims on average have older vehicles with meanyear as 2005 as the standard deviation is higher 10"
   ]
  },
  {
   "cell_type": "markdown",
   "metadata": {},
   "source": [
    "### 5.1.2  LargeClaims vs ExposTotal"
   ]
  },
  {
   "cell_type": "code",
   "execution_count": 17,
   "metadata": {
    "collapsed": false
   },
   "outputs": [
    {
     "name": "stdout",
     "output_type": "stream",
     "text": [
      "                 count       mean        std      min   25%   50%    75%  \\\n",
      "LargeClaims                                                                \n",
      "0            1261063.0   1.236682   2.332815  0.00274  0.39  0.50   1.20   \n",
      "1             287193.0  13.339471  36.629501  0.00000  1.51  4.59  12.72   \n",
      "\n",
      "                 max  \n",
      "LargeClaims           \n",
      "0             208.33  \n",
      "1            8078.44  \n"
     ]
    }
   ],
   "source": [
    "grouped = result_df.groupby( \"LargeClaims\")\n",
    "expos_total = grouped[ \"ExposTotal\"].describe()\n",
    "expos_total = expos_total.unstack( level=-1)\n",
    "print expos_total"
   ]
  },
  {
   "cell_type": "markdown",
   "metadata": {},
   "source": [
    "<b>Conclusion:</b>\n",
    "\n",
    "ExposTotal(mean) is higher for LargeClaims-yes which suggests that higher the exposure, larger the claims."
   ]
  },
  {
   "cell_type": "markdown",
   "metadata": {},
   "source": [
    "### 5.1.3  LargeClaims vs PremTotal"
   ]
  },
  {
   "cell_type": "code",
   "execution_count": 18,
   "metadata": {
    "collapsed": false
   },
   "outputs": [
    {
     "name": "stdout",
     "output_type": "stream",
     "text": [
      "                 count          mean           std           min      25%  \\\n",
      "LargeClaims                                                                 \n",
      "0            1261063.0   1594.934661   3416.612571  1.705303e-13   320.24   \n",
      "1             287193.0  13504.334418  36961.777029  0.000000e+00  1704.63   \n",
      "\n",
      "                 50%        75%         max  \n",
      "LargeClaims                                  \n",
      "0             728.23   1679.305   700067.05  \n",
      "1            4868.19  12847.450  6478755.13  \n"
     ]
    }
   ],
   "source": [
    "grouped = result_df.groupby( \"LargeClaims\")\n",
    "prem_total = grouped[ \"PremTotal\"].describe()\n",
    "prem_total = prem_total.unstack( level=-1)\n",
    "print prem_total"
   ]
  },
  {
   "cell_type": "markdown",
   "metadata": {},
   "source": [
    "<b>Conclusion:</b>\n",
    "\n",
    "PremTotal(mean) is higher for LargeClaims-yes which suggests that higher the total premium, higher the occurance of large claims."
   ]
  },
  {
   "cell_type": "markdown",
   "metadata": {},
   "source": [
    "### 5.1.4  LargeClaims vs SumInsAvg"
   ]
  },
  {
   "cell_type": "code",
   "execution_count": 19,
   "metadata": {
    "collapsed": false
   },
   "outputs": [
    {
     "name": "stdout",
     "output_type": "stream",
     "text": [
      "                 count          mean           std  min       25%       50%  \\\n",
      "LargeClaims                                                                   \n",
      "0            1261063.0  39014.863562  37606.296007  0.0  18577.05  29185.99   \n",
      "1             287193.0  33110.386246  23837.831604  0.0  19937.45  27863.15   \n",
      "\n",
      "                   75%         max  \n",
      "LargeClaims                         \n",
      "0            47248.995  1307269.94  \n",
      "1            39072.660   904788.02  \n"
     ]
    }
   ],
   "source": [
    "grouped = result_df.groupby( \"LargeClaims\")\n",
    "sumins = grouped[ \"SumInsAvg\"].describe()\n",
    "sumins = sumins.unstack( level=-1)\n",
    "print sumins"
   ]
  },
  {
   "cell_type": "markdown",
   "metadata": {},
   "source": [
    "<b>Conclusion:</b>\n",
    "\n",
    "SumInsAvg (mean) have negative effect on the output. As mean of SumInsAvg rises, the occurances of LargeClaims reduces."
   ]
  },
  {
   "cell_type": "markdown",
   "metadata": {},
   "source": [
    "### 5.1.5  LargeClaims vs SumofClaims"
   ]
  },
  {
   "cell_type": "code",
   "execution_count": 20,
   "metadata": {
    "collapsed": false
   },
   "outputs": [
    {
     "name": "stdout",
     "output_type": "stream",
     "text": [
      "                 count      mean        std  min  25%  50%  75%     max\n",
      "LargeClaims                                                            \n",
      "0            1261063.0  0.000000   0.000000  0.0  0.0  0.0  0.0     0.0\n",
      "1             287193.0  4.409634  14.102637  1.0  1.0  2.0  3.0  1402.0\n"
     ]
    }
   ],
   "source": [
    "grouped = result_df.groupby( \"LargeClaims\")\n",
    "sum_claims = grouped[ \"SumofClaims\"].describe()\n",
    "sum_claims = sum_claims.unstack( level=-1)\n",
    "print sum_claims"
   ]
  },
  {
   "cell_type": "markdown",
   "metadata": {},
   "source": [
    "<b>Conclusion:</b>\n",
    "\n",
    "SumofClaims (mean) is higher for LargeClaims-yes which suggests that higher the sum of claims, the freq of LargeClaims will rise. This is stating the obvious."
   ]
  },
  {
   "cell_type": "markdown",
   "metadata": {},
   "source": [
    "### 5.2) Comparing Qualitative vs. Qualitative Analysis"
   ]
  },
  {
   "cell_type": "markdown",
   "metadata": {},
   "source": [
    "### 5.2.1 LargeClaims vs Gender"
   ]
  },
  {
   "cell_type": "code",
   "execution_count": 21,
   "metadata": {
    "collapsed": false
   },
   "outputs": [
    {
     "name": "stdout",
     "output_type": "stream",
     "text": [
      "LargeClaims         0         1\n",
      "Gender                         \n",
      "Corporate    0.099718  0.000000\n",
      "Female       0.304840  0.081171\n",
      "Male         0.409947  0.104323\n"
     ]
    },
    {
     "data": {
      "text/plain": [
       "<matplotlib.axes._subplots.AxesSubplot at 0xc306ac8>"
      ]
     },
     "execution_count": 21,
     "metadata": {},
     "output_type": "execute_result"
    },
    {
     "data": {
      "image/png": "[encoded data removed]",
      "text/plain": [
       "<matplotlib.figure.Figure at 0x4a250b8>"
      ]
     },
     "metadata": {},
     "output_type": "display_data"
    }
   ],
   "source": [
    "frequencies = pd.crosstab( result_df[ \"Gender\"], result_df[ \"LargeClaims\"]).apply(lambda r: r/len(result_df))\n",
    "print frequencies\n",
    "sns.heatmap( frequencies)"
   ]
  },
  {
   "cell_type": "markdown",
   "metadata": {},
   "source": [
    "<b>Conclusion:</b>\n",
    "\n",
    "LargeClaims-yes frequency for males are higher at 10% compared to females at 8%, men on average, file for larger claims. Coroporate claims have no impact on the output "
   ]
  },
  {
   "cell_type": "markdown",
   "metadata": {},
   "source": [
    "### 5.2.2 LargeClaims vs DrivAge"
   ]
  },
  {
   "cell_type": "code",
   "execution_count": 22,
   "metadata": {
    "collapsed": false
   },
   "outputs": [
    {
     "name": "stdout",
     "output_type": "stream",
     "text": [
      "LargeClaims         0         1\n",
      "DrivAge                        \n",
      "18-25        0.064535  0.012069\n",
      "26-35        0.163027  0.038656\n",
      "36-45        0.204370  0.050289\n",
      "46-55        0.193540  0.042781\n",
      ">55          0.189035  0.041699\n"
     ]
    },
    {
     "data": {
      "text/plain": [
       "<matplotlib.axes._subplots.AxesSubplot at 0x2783d9b0>"
      ]
     },
     "execution_count": 22,
     "metadata": {},
     "output_type": "execute_result"
    },
    {
     "data": {
      "image/png": "[encoded data removed]",
      "text/plain": [
       "<matplotlib.figure.Figure at 0x14186550>"
      ]
     },
     "metadata": {},
     "output_type": "display_data"
    }
   ],
   "source": [
    "frequencies = pd.crosstab( result_df[ \"DrivAge\"], result_df[ \"LargeClaims\"]).apply(lambda r: r/len(result_df))\n",
    "print frequencies\n",
    "sns.heatmap( frequencies)"
   ]
  },
  {
   "cell_type": "markdown",
   "metadata": {},
   "source": [
    "<b>Conclusion:</b>\n",
    "\n",
    "LargeClaims-yes frequency is higher for the age group 36-45 at 5%, this is followed by 46-55 at 4.2%"
   ]
  },
  {
   "cell_type": "markdown",
   "metadata": {},
   "source": [
    "### 5.2.3  LargeClaims vs StateAb"
   ]
  },
  {
   "cell_type": "code",
   "execution_count": 23,
   "metadata": {
    "collapsed": false
   },
   "outputs": [
    {
     "name": "stdout",
     "output_type": "stream",
     "text": [
      "LargeClaims         0         1\n",
      "StateAb                        \n",
      "AC           0.003093  0.000428\n",
      "AL           0.011255  0.001806\n",
      "AM           0.008379  0.001238\n",
      "AP           0.002403  0.000256\n",
      "BA           0.023532  0.005883\n",
      "CE           0.016877  0.003456\n",
      "DF           0.022966  0.006618\n",
      "ES           0.018573  0.004597\n",
      "GO           0.029421  0.006604\n",
      "MA           0.010107  0.001664\n",
      "MG           0.087343  0.015604\n",
      "MS           0.015141  0.002784\n",
      "MT           0.014638  0.002843\n",
      "PA           0.012214  0.002221\n",
      "PB           0.011107  0.002014\n",
      "PE           0.019354  0.004166\n",
      "PI           0.007742  0.001496\n",
      "PR           0.087842  0.014234\n",
      "RJ           0.058927  0.015456\n",
      "RN           0.011814  0.002733\n",
      "RO           0.001999  0.000232\n",
      "RR           0.002128  0.000196\n",
      "RS           0.073913  0.012761\n",
      "SC           0.080038  0.010448\n",
      "SE           0.009702  0.001776\n",
      "SP           0.166584  0.062896\n",
      "TO           0.007411  0.001086\n"
     ]
    },
    {
     "data": {
      "text/plain": [
       "<matplotlib.axes._subplots.AxesSubplot at 0x2351e4e0>"
      ]
     },
     "execution_count": 23,
     "metadata": {},
     "output_type": "execute_result"
    },
    {
     "data": {
      "image/png": "[encoded data removed]",
      "text/plain": [
       "<matplotlib.figure.Figure at 0x14d2df28>"
      ]
     },
     "metadata": {},
     "output_type": "display_data"
    }
   ],
   "source": [
    "frequencies = pd.crosstab( result_df[ \"StateAb\"], result_df[ \"LargeClaims\"]).apply(lambda r: r/len(result_df))\n",
    "print frequencies\n",
    "\n",
    "sns.heatmap( frequencies)"
   ]
  },
  {
   "cell_type": "markdown",
   "metadata": {},
   "source": [
    "<b>Conclusion:</b>\n",
    "\n",
    "Greaterthnmean-yes frequency is highest for Sao Paulo at 6.2%\n",
    "\n"
   ]
  },
  {
   "cell_type": "markdown",
   "metadata": {},
   "source": [
    "# 6) Logistic Regression and KMeans Clustering."
   ]
  },
  {
   "cell_type": "markdown",
   "metadata": {},
   "source": [
    "I will be using logistic regression to predict the output, LargeClaims. Logistic regression is intrinsically simple, it has low variance and so is less prone to over-fitting also Logistic regression will work better if there's a single decision boundary, not necessarily parallel to the axis.\n",
    "\n",
    "Since I manually, coded the labels for LargeClaims this becomes a supervised learning problem. \n",
    "\n",
    "\n",
    "\n",
    "My Other approach is to use K Means clustering for LargeClaims, I would be using 2 clusters centers and then classify it against the labels that I already created."
   ]
  },
  {
   "cell_type": "markdown",
   "metadata": {},
   "source": [
    "### 6.1) Rename colums in the dataframe"
   ]
  },
  {
   "cell_type": "code",
   "execution_count": 42,
   "metadata": {
    "collapsed": false
   },
   "outputs": [],
   "source": [
    "result_df.rename(columns={'DrivAge_18-25': 'DrivAge_18_25', 'DrivAge_26-35':'DrivAge_26_35', \n",
    "                         'DrivAge_36-45': 'DrivAge_36_45',\n",
    "                         'DrivAge_46-55': 'DrivAge_46_55',\n",
    "                         'DrivAge_>55': 'DrivAge_55',\n",
    "                         'Area_Blumenau e demais regioes': 'Area_Blumenau_e_demais_regioes',\n",
    "                         'Area_Demais regioes': 'Area_Demais_regioes',\n",
    "                         'Area_Espirito Santo': 'Area_Espirito_Santo',\n",
    "                         'Area_F.Iguatu-Medianeira-Cascavel-Toledo': 'Area_F_Iguatu-Medianeira_Cascavel_Toledo',\n",
    "                         'Area_Grande Campinas': 'Area_Grande_Campinas',\n",
    "                         'Area_Litoral Norte e Baixada Santista': 'Area_Litoral_Norte_e_Baixada_Santista',\n",
    "                         'Area_Mato Grosso': 'Area_Mato Grosso',\n",
    "                         'Area_Mato Grosso do Sul': 'Area_Mato_Grosso_do_Sul',\n",
    "                         'Area_Met. de Sao Paulo': 'Area_Met_de_Sao_Paulo',\n",
    "                         'Area_Met. do Rio de Janeiro': 'Area_Met_do_Rio_de_Janeiro',\n",
    "                         'Area_Met.BH-Centro Oeste-Zona Mata-C. Vertentes': 'Area_Met_BH_Centro_Oeste_Zona_Mata_C_Vertentes',\n",
    "                         'Area_Ribeirao Preto e Demais Mun. de Campinas': 'Area_Ribeirao_Preto_e_Demais_Mun_de_Campinas',\n",
    "                         'Area_Rio Grande do Norte': 'Area_Rio_Grande_do_Norte',\n",
    "                         'Area_Sudeste de Goias': 'Area_Sudeste_de_Goias',\n",
    "                         'Area_Triangulo mineiro': 'Area_Triangulo_mineiro',\n",
    "                         'Area_Vale do Aco-Norte-Vale Jequitinhonha': 'Area_Vale_do_Aco_Norte_Vale_Jequitinhonha',\n",
    "                         'Area_Vale do Paraiba e Ribeira': 'Area_Vale_do_Paraiba_e_Ribeira',\n",
    "                         'Area_Met. Curitiba': 'Area_Met_Curitiba',\n",
    "                          'Area_Met. Florianopolis e Sul': 'Area_Met_Florianopolis_e_Sul',\n",
    "                          'Area_Met. Porto Alegre e Caxias do Sul': 'Area_Met_Porto_Alegre_e_Caxias_do_Sul'}, inplace=True)"
   ]
  },
  {
   "cell_type": "code",
   "execution_count": 43,
   "metadata": {
    "collapsed": false
   },
   "outputs": [
    {
     "data": {
      "text/plain": [
       "array(['Gender_Corporate', 'Gender_Female', 'Gender_Male', 'DrivAge_18_25',\n",
       "       'DrivAge_26_35', 'DrivAge_36_45', 'DrivAge_46_55', 'DrivAge_55',\n",
       "       'Area_Acre', 'Area_Alagoas', 'Area_Amapa', 'Area_Amazonas',\n",
       "       'Area_Bahia', 'Area_Blumenau_e_demais_regioes', 'Area_Brasilia',\n",
       "       'Area_Ceara', 'Area_Demais_regioes', 'Area_Espirito_Santo',\n",
       "       'Area_F_Iguatu-Medianeira_Cascavel_Toledo', 'Area_Goias',\n",
       "       'Area_Grande_Campinas', 'Area_Interior',\n",
       "       'Area_Litoral_Norte_e_Baixada_Santista', 'Area_Maranhao',\n",
       "       'Area_Mato Grosso', 'Area_Mato_Grosso_do_Sul', 'Area_Met_Curitiba',\n",
       "       'Area_Met_Florianopolis_e_Sul',\n",
       "       'Area_Met_Porto_Alegre_e_Caxias_do_Sul', 'Area_Met_de_Sao_Paulo',\n",
       "       'Area_Met_do_Rio_de_Janeiro',\n",
       "       'Area_Met_BH_Centro_Oeste_Zona_Mata_C_Vertentes', 'Area_Oeste',\n",
       "       'Area_Para', 'Area_Paraiba', 'Area_Pernambuco', 'Area_Piaui',\n",
       "       'Area_Ribeirao_Preto_e_Demais_Mun_de_Campinas',\n",
       "       'Area_Rio_Grande_do_Norte', 'Area_Rondonia', 'Area_Roraima',\n",
       "       'Area_Sergipe', 'Area_Sudeste_de_Goias', 'Area_Sul',\n",
       "       'Area_Tocantins', 'Area_Triangulo_mineiro',\n",
       "       'Area_Vale_do_Aco_Norte_Vale_Jequitinhonha',\n",
       "       'Area_Vale_do_Paraiba_e_Ribeira', 'StateAb_AC', 'StateAb_AL',\n",
       "       'StateAb_AM', 'StateAb_AP', 'StateAb_BA', 'StateAb_CE',\n",
       "       'StateAb_DF', 'StateAb_ES', 'StateAb_GO', 'StateAb_MA',\n",
       "       'StateAb_MG', 'StateAb_MS', 'StateAb_MT', 'StateAb_PA',\n",
       "       'StateAb_PB', 'StateAb_PE', 'StateAb_PI', 'StateAb_PR',\n",
       "       'StateAb_RJ', 'StateAb_RN', 'StateAb_RO', 'StateAb_RR',\n",
       "       'StateAb_RS', 'StateAb_SC', 'StateAb_SE', 'StateAb_SP',\n",
       "       'StateAb_TO', 'Gender', 'DrivAge', 'VehYear', 'VehModel',\n",
       "       'VehGroup', 'Area', 'State', 'StateAb', 'ExposTotal',\n",
       "       'ExposFireRob', 'PremTotal', 'PremFireRob', 'SumInsAvg',\n",
       "       'ClaimNbRob', 'ClaimNbPartColl', 'ClaimNbTotColl', 'ClaimNbFire',\n",
       "       'ClaimNbOther', 'ClaimAmountRob', 'ClaimAmountPartColl',\n",
       "       'ClaimAmountTotColl', 'ClaimAmountFire', 'ClaimAmountOther',\n",
       "       'SumofClaims', 'SumofClaimsAmt', 'AmtperClaim', 'LargeClaims'], dtype=object)"
      ]
     },
     "execution_count": 43,
     "metadata": {},
     "output_type": "execute_result"
    }
   ],
   "source": [
    "result_df.columns.values"
   ]
  },
  {
   "cell_type": "markdown",
   "metadata": {},
   "source": [
    "### 6.2) Use standard scalar to scale all the variables since we have high dimentionality & I will be  using l2_regularized logistic regression\n",
    "\n",
    "\n",
    "\n",
    "Important Assumptions for this logistic regression:\n",
    "\n",
    "I decided to scale the variables since I have decided to use l2 regularization due to high dimensionality in the data. I lack domain knowledge and l1 would have helped, but L2 regularization isn’t really strong for feature-selection but rather tries to reduce the complexity of the model by preventing very large weighting on features. (what I really need in this instance)\n",
    "\n",
    "If I were using L1 regularization then its the case of caring about feature-selection, as that is it’s main power. It reduces the complexity of the learned model by causing some features being ignored completely, which is called sparsity.\n",
    "\n",
    "By using L1-regularization one is giving some thought to automatic feature-selection. The real question is: should I care more about feature selection? That depends on the problem statement, how much time I have and the experience-level.\n"
   ]
  },
  {
   "cell_type": "code",
   "execution_count": 44,
   "metadata": {
    "collapsed": false
   },
   "outputs": [
    {
     "name": "stdout",
     "output_type": "stream",
     "text": [
      "Most important features..\n",
      "ClaimNbOther has weight of 39.3991508407\n",
      "ClaimNbPartColl has weight of 12.8324865218\n",
      "ClaimAmountOther has weight of 9.70807506544\n",
      "ClaimAmountPartColl has weight of 3.53102748378\n",
      "ClaimNbRob has weight of 2.74941431246\n",
      "ClaimNbTotColl has weight of 1.66115779054\n",
      "Gender_Corporate has weight of -1.41272258503\n",
      "ExposTotal has weight of 0.874480384511\n",
      "ClaimAmountRob has weight of 0.71464475513\n",
      "ClaimAmountTotColl has weight of 0.595348017294\n",
      "Gender_Male has weight of 0.435138578552\n",
      "Gender_Female has weight of 0.42364290264\n",
      "ClaimNbFire has weight of 0.351041165365\n",
      "PremTotal has weight of 0.312697692622\n",
      "SumInsAvg has weight of -0.143261571693\n",
      "StateAb_SP has weight of 0.119446465432\n",
      "Area_Met_de_Sao_Paulo has weight of 0.118847867172\n",
      "Area_Demais_regioes has weight of -0.0990869419646\n",
      "Area_F_Iguatu-Medianeira_Cascavel_Toledo has weight of -0.0969204308026\n",
      "StateAb_RS has weight of -0.0843154272832\n",
      "ClaimAmountFire has weight of 0.0770468013064\n",
      "StateAb_SC has weight of -0.0747599482028\n",
      "Area_Oeste has weight of -0.071862586094\n",
      "Area_Blumenau_e_demais_regioes has weight of -0.0686666420228\n",
      "Area_Met_do_Rio_de_Janeiro has weight of 0.0678295048129\n",
      "Area_Vale_do_Aco_Norte_Vale_Jequitinhonha has weight of -0.0674732766376\n",
      "Area_Vale_do_Paraiba_e_Ribeira has weight of 0.0577086752981\n",
      "Area_Met_Porto_Alegre_e_Caxias_do_Sul has weight of 0.0538474999076\n",
      "Area_Interior has weight of -0.0469639166475\n",
      "DrivAge_18_25 has weight of -0.0463184668133\n",
      "Area_Litoral_Norte_e_Baixada_Santista has weight of 0.0454789929869\n",
      "Area_Sudeste_de_Goias has weight of -0.0366079395661\n",
      "StateAb_PR has weight of -0.03595574369\n",
      "StateAb_MG has weight of -0.0308548919509\n",
      "Area_Espirito_Santo has weight of 0.0282742669454\n",
      "StateAb_ES has weight of 0.0282742669454\n",
      "Area_Met_Curitiba has weight of -0.0266773034264\n",
      "StateAb_RJ has weight of 0.0260678753924\n",
      "Area_Grande_Campinas has weight of 0.0254539105468\n",
      "DrivAge_26_35 has weight of 0.0249471514801\n",
      "Area_Brasilia has weight of 0.0225154217246\n",
      "StateAb_DF has weight of 0.0225154217246\n",
      "DrivAge_36_45 has weight of -0.0185622658842\n",
      "DrivAge_55 has weight of 0.0181032444238\n",
      "Area_Rio_Grande_do_Norte has weight of 0.017895716896\n",
      "StateAb_RN has weight of 0.017895716896\n",
      "Area_Goias has weight of 0.0169536617111\n",
      "Area_Triangulo_mineiro has weight of -0.0146796049266\n",
      "VehYear has weight of -0.0143811857723\n",
      "Area_Met_Florianopolis_e_Sul has weight of 0.0134065715333\n",
      "Area_Ribeirao_Preto_e_Demais_Mun_de_Campinas has weight of -0.0116053268775\n",
      "Area_Piaui has weight of 0.0111691772616\n",
      "StateAb_PI has weight of 0.0111691772616\n",
      "Area_Bahia has weight of 0.0100854320401\n",
      "StateAb_BA has weight of 0.0100854320401\n",
      "Area_Mato Grosso has weight of -0.00891803891661\n",
      "StateAb_MT has weight of -0.00891803891661\n",
      "DrivAge_46_55 has weight of 0.00654035000768\n",
      "Area_Tocantins has weight of -0.00556300425543\n",
      "StateAb_TO has weight of -0.00556300425543\n",
      "Area_Mato_Grosso_do_Sul has weight of -0.00454717415533\n",
      "StateAb_MS has weight of -0.00454717415533\n",
      "Area_Alagoas has weight of -0.00451582478672\n",
      "StateAb_AL has weight of -0.00451582478672\n",
      "Area_Met_BH_Centro_Oeste_Zona_Mata_C_Vertentes has weight of 0.00330232618761\n",
      "Area_Para has weight of -0.00315331011727\n",
      "StateAb_PA has weight of -0.00315331011727\n",
      "Area_Amapa has weight of -0.00295783931515\n",
      "StateAb_AP has weight of -0.00295783931515\n",
      "StateAb_GO has weight of -0.00275388460964\n",
      "Area_Paraiba has weight of -0.0026492897974\n",
      "StateAb_PB has weight of -0.0026492897974\n",
      "Area_Ceara has weight of -0.00253868063099\n",
      "StateAb_CE has weight of -0.00253868063099\n",
      "Area_Rondonia has weight of 0.00252729841074\n",
      "StateAb_RO has weight of 0.00252729841074\n",
      "Area_Maranhao has weight of -0.00221780733159\n",
      "StateAb_MA has weight of -0.00221780733159\n",
      "Area_Roraima has weight of -0.00117409437442\n",
      "StateAb_RR has weight of -0.00117409437442\n",
      "Area_Acre has weight of -0.00109979592054\n",
      "StateAb_AC has weight of -0.00109979592054\n",
      "Area_Amazonas has weight of 0.000636562879224\n",
      "StateAb_AM has weight of 0.000636562879224\n",
      "Area_Sul has weight of -0.000393437049137\n",
      "Area_Sergipe has weight of 0.000294623591614\n",
      "StateAb_SE has weight of 0.000294623591614\n",
      "Area_Pernambuco has weight of 1.12961175103e-06\n",
      "StateAb_PE has weight of 1.12961175103e-06\n",
      "ExposFireRob has weight of 0.0\n",
      "PremFireRob has weight of 0.0\n",
      "\n",
      "accuracy: 0.999954787956\n",
      "Confusion matrix : \n",
      "[[126275      7]\n",
      " [     0  28544]]\n",
      "\n",
      "Classification Report..\n",
      "             precision    recall  f1-score   support\n",
      "\n",
      "          0       1.00      1.00      1.00    126282\n",
      "          1       1.00      1.00      1.00     28544\n",
      "\n",
      "avg / total       1.00      1.00      1.00    154826\n",
      "\n"
     ]
    }
   ],
   "source": [
    "result_df2 = result_df[['Gender_Corporate', 'Gender_Female', 'Gender_Male', 'DrivAge_18_25',\n",
    "       'DrivAge_26_35', 'DrivAge_36_45', 'DrivAge_46_55', 'DrivAge_55',\n",
    "       'Area_Acre', 'Area_Alagoas', 'Area_Amapa', 'Area_Amazonas',\n",
    "       'Area_Bahia', 'Area_Blumenau_e_demais_regioes', 'Area_Brasilia',\n",
    "       'Area_Ceara', 'Area_Demais_regioes', 'Area_Espirito_Santo',\n",
    "       'Area_F_Iguatu-Medianeira_Cascavel_Toledo', 'Area_Goias',\n",
    "       'Area_Grande_Campinas', 'Area_Interior',\n",
    "       'Area_Litoral_Norte_e_Baixada_Santista', 'Area_Maranhao',\n",
    "       'Area_Mato Grosso', 'Area_Mato_Grosso_do_Sul', 'Area_Met_Curitiba',\n",
    "       'Area_Met_Florianopolis_e_Sul',\n",
    "       'Area_Met_Porto_Alegre_e_Caxias_do_Sul', 'Area_Met_de_Sao_Paulo',\n",
    "       'Area_Met_do_Rio_de_Janeiro',\n",
    "       'Area_Met_BH_Centro_Oeste_Zona_Mata_C_Vertentes', 'Area_Oeste',\n",
    "       'Area_Para', 'Area_Paraiba', 'Area_Pernambuco', 'Area_Piaui',\n",
    "       'Area_Ribeirao_Preto_e_Demais_Mun_de_Campinas',\n",
    "       'Area_Rio_Grande_do_Norte', 'Area_Rondonia', 'Area_Roraima',\n",
    "       'Area_Sergipe', 'Area_Sudeste_de_Goias', 'Area_Sul',\n",
    "       'Area_Tocantins', 'Area_Triangulo_mineiro',\n",
    "       'Area_Vale_do_Aco_Norte_Vale_Jequitinhonha',\n",
    "       'Area_Vale_do_Paraiba_e_Ribeira', 'StateAb_AC', 'StateAb_AL',\n",
    "       'StateAb_AM', 'StateAb_AP', 'StateAb_BA', 'StateAb_CE',\n",
    "       'StateAb_DF', 'StateAb_ES', 'StateAb_GO', 'StateAb_MA',\n",
    "       'StateAb_MG', 'StateAb_MS', 'StateAb_MT', 'StateAb_PA',\n",
    "       'StateAb_PB', 'StateAb_PE', 'StateAb_PI', 'StateAb_PR',\n",
    "       'StateAb_RJ', 'StateAb_RN', 'StateAb_RO', 'StateAb_RR',\n",
    "       'StateAb_RS', 'StateAb_SC', 'StateAb_SE', 'StateAb_SP',\n",
    "       'StateAb_TO',  'VehYear','ExposTotal',\n",
    "       'ExposFireRob', 'PremTotal', 'PremFireRob', 'SumInsAvg',\n",
    "       'ClaimNbRob', 'ClaimNbPartColl', 'ClaimNbTotColl', 'ClaimNbFire',\n",
    "       'ClaimNbOther', 'ClaimAmountRob', 'ClaimAmountPartColl',\n",
    "       'ClaimAmountTotColl', 'ClaimAmountFire', 'ClaimAmountOther',\n",
    "       'SumofClaims', 'SumofClaimsAmt', 'AmtperClaim', 'LargeClaims']]\n",
    "y = result_df2['LargeClaims'].values\n",
    "X = result_df2[['Gender_Corporate', 'Gender_Female', 'Gender_Male', 'DrivAge_18_25',\n",
    "       'DrivAge_26_35', 'DrivAge_36_45', 'DrivAge_46_55', 'DrivAge_55',\n",
    "       'Area_Acre', 'Area_Alagoas', 'Area_Amapa', 'Area_Amazonas',\n",
    "       'Area_Bahia', 'Area_Blumenau_e_demais_regioes', 'Area_Brasilia',\n",
    "       'Area_Ceara', 'Area_Demais_regioes', 'Area_Espirito_Santo',\n",
    "       'Area_F_Iguatu-Medianeira_Cascavel_Toledo', 'Area_Goias',\n",
    "       'Area_Grande_Campinas', 'Area_Interior',\n",
    "       'Area_Litoral_Norte_e_Baixada_Santista', 'Area_Maranhao',\n",
    "       'Area_Mato Grosso', 'Area_Mato_Grosso_do_Sul', 'Area_Met_Curitiba',\n",
    "       'Area_Met_Florianopolis_e_Sul',\n",
    "       'Area_Met_Porto_Alegre_e_Caxias_do_Sul', 'Area_Met_de_Sao_Paulo',\n",
    "       'Area_Met_do_Rio_de_Janeiro',\n",
    "       'Area_Met_BH_Centro_Oeste_Zona_Mata_C_Vertentes', 'Area_Oeste',\n",
    "       'Area_Para', 'Area_Paraiba', 'Area_Pernambuco', 'Area_Piaui',\n",
    "       'Area_Ribeirao_Preto_e_Demais_Mun_de_Campinas',\n",
    "       'Area_Rio_Grande_do_Norte', 'Area_Rondonia', 'Area_Roraima',\n",
    "       'Area_Sergipe', 'Area_Sudeste_de_Goias', 'Area_Sul',\n",
    "       'Area_Tocantins', 'Area_Triangulo_mineiro',\n",
    "       'Area_Vale_do_Aco_Norte_Vale_Jequitinhonha',\n",
    "       'Area_Vale_do_Paraiba_e_Ribeira', 'StateAb_AC', 'StateAb_AL',\n",
    "       'StateAb_AM', 'StateAb_AP', 'StateAb_BA', 'StateAb_CE',\n",
    "       'StateAb_DF', 'StateAb_ES', 'StateAb_GO', 'StateAb_MA',\n",
    "       'StateAb_MG', 'StateAb_MS', 'StateAb_MT', 'StateAb_PA',\n",
    "       'StateAb_PB', 'StateAb_PE', 'StateAb_PI', 'StateAb_PR',\n",
    "       'StateAb_RJ', 'StateAb_RN', 'StateAb_RO', 'StateAb_RR',\n",
    "       'StateAb_RS', 'StateAb_SC', 'StateAb_SE', 'StateAb_SP',\n",
    "       'StateAb_TO',  'VehYear','ExposTotal',\n",
    "       'ExposFireRob', 'PremTotal', 'PremFireRob', 'SumInsAvg',\n",
    "       'ClaimNbRob', 'ClaimNbPartColl', 'ClaimNbTotColl', 'ClaimNbFire',\n",
    "       'ClaimNbOther', 'ClaimAmountRob', 'ClaimAmountPartColl',\n",
    "       'ClaimAmountTotColl', 'ClaimAmountFire', 'ClaimAmountOther']].values\n",
    "\n",
    "X_train, X_test, y_train, y_test = train_test_split(X, y, test_size=0.1)\n",
    "\n",
    "from sklearn.preprocessing import StandardScaler\n",
    "\n",
    "# scale attributes by the training set\n",
    "scl_obj = StandardScaler()\n",
    "scl_obj.fit(X_train) # find scalings for each column that make this zero mean and unit std\n",
    "X_train_scaled = scl_obj.transform(X_train) # apply to training\n",
    "X_test_scaled = scl_obj.transform(X_test) # apply those means and std to the test set (without snooping at the test set values)\n",
    "\n",
    "lr_clf = LogisticRegression(penalty='l2', C=0.05, class_weight=\"balanced\") # get object, the 'C' value is less \n",
    "lr_clf.fit(X_train_scaled,y_train)  # train object\n",
    "\n",
    "y_hat = lr_clf.predict(X_test_scaled) # get test set precitions\n",
    "\n",
    "# sort these attributes and spit them out\n",
    "zip_vars = zip(lr_clf.coef_.T,result_df2.columns) # combine attributes\n",
    "zip_vars.sort(key = lambda t: np.abs(t[0]), reverse = True) # sort them by the magnitude of the weight\n",
    "print \"Most important features..\"\n",
    "for coef, name in zip_vars:\n",
    "    print name, 'has weight of', coef[0] # now print them out\n",
    "print    \n",
    "# Determine the false positive and true positive rates\n",
    "acc = mt.accuracy_score(y_test,y_hat)\n",
    "conf = mt.confusion_matrix(y_test,y_hat)\n",
    "print 'accuracy:', acc \n",
    "print \"Confusion matrix : \"\n",
    "print conf\n",
    "print\n",
    "print \"Classification Report..\"\n",
    "from sklearn.metrics import classification_report\n",
    "print(classification_report(y_test, y_hat))"
   ]
  },
  {
   "cell_type": "markdown",
   "metadata": {},
   "source": [
    "### The logistic regression is extremly accurate in classifying , LargeClaims as I have already included all the features that causes variability in the output. "
   ]
  },
  {
   "cell_type": "markdown",
   "metadata": {},
   "source": [
    "### Conclusion:\n",
    "\n",
    "Most important features to detremine Large Claims in order of weight:\n",
    "\n",
    " - Features by <b>Claims</b>: \n",
    "\n",
    "ClaimNbOther has weight of 39.5370356179\n",
    "\n",
    "ClaimNbPartColl has weight of 12.9030127218\n",
    "\n",
    "ClaimAmountOther has weight of 9.79904240762\n",
    "\n",
    "ClaimAmountPartColl has weight of 3.58553634115\n",
    "\n",
    "ClaimNbRob has weight of 2.75156105227\n",
    "\n",
    "ClaimNbTotColl has weight of 1.6607664322\n",
    "\n",
    "\n",
    " - Features by <b>States</b> and <b>Area</b>:\n",
    "\n",
    "StateAb_SP has weight of 0.118891270479\n",
    "\n",
    "Area_Met. de Sao Paulo has weight of 0.118883136509\n",
    "\n",
    " - Features by <b>Gender</b>:\n",
    "\n",
    "Gender_Male has weight of 0.437100068967\n",
    "\n",
    "\n",
    "Gender_Female has weight of 0.425773855997\n",
    "\n",
    " "
   ]
  },
  {
   "cell_type": "code",
   "execution_count": 48,
   "metadata": {
    "collapsed": false
   },
   "outputs": [
    {
     "name": "stdout",
     "output_type": "stream",
     "text": [
      "Plot of most important features...\n"
     ]
    },
    {
     "data": {
      "image/png": "[encoded data removed]",
      "text/plain": [
       "<matplotlib.figure.Figure at 0x166b3198>"
      ]
     },
     "metadata": {},
     "output_type": "display_data"
    }
   ],
   "source": [
    "print \"Plot of most important features...\"\n",
    "# now let's make a pandas Series with the names and values, and plot them\n",
    "from matplotlib import pyplot as plt\n",
    "\n",
    "%matplotlib inline\n",
    "figure = plt.figure(figsize=(20, 10))\n",
    "\n",
    "plt.style.use('ggplot')\n",
    "\n",
    "weights = pd.Series(lr_clf.coef_[0], index = ['Gender_Corporate', 'Gender_Female', 'Gender_Male', 'DrivAge_18_25',\n",
    "       'DrivAge_26_35', 'DrivAge_36_45', 'DrivAge_46_55', 'DrivAge_55',\n",
    "       'Area_Acre', 'Area_Alagoas', 'Area_Amapa', 'Area_Amazonas',\n",
    "       'Area_Bahia', 'Area_Blumenau_e_demais_regioes', 'Area_Brasilia',\n",
    "       'Area_Ceara', 'Area_Demais_regioes', 'Area_Espirito_Santo',\n",
    "       'Area_F_Iguatu-Medianeira_Cascavel_Toledo', 'Area_Goias',\n",
    "       'Area_Grande_Campinas', 'Area_Interior',\n",
    "       'Area_Litoral_Norte_e_Baixada_Santista', 'Area_Maranhao',\n",
    "       'Area_Mato Grosso', 'Area_Mato_Grosso_do_Sul', 'Area_Met_Curitiba',\n",
    "       'Area_Met_Florianopolis_e_Sul',\n",
    "       'Area_Met_Porto_Alegre_e_Caxias_do_Sul', 'Area_Met_de_Sao_Paulo',\n",
    "       'Area_Met_do_Rio_de_Janeiro',\n",
    "       'Area_Met_BH_Centro_Oeste_Zona_Mata_C_Vertentes', 'Area_Oeste',\n",
    "       'Area_Para', 'Area_Paraiba', 'Area_Pernambuco', 'Area_Piaui',\n",
    "       'Area_Ribeirao_Preto_e_Demais_Mun_de_Campinas',\n",
    "       'Area_Rio_Grande_do_Norte', 'Area_Rondonia', 'Area_Roraima',\n",
    "       'Area_Sergipe', 'Area_Sudeste_de_Goias', 'Area_Sul',\n",
    "       'Area_Tocantins', 'Area_Triangulo_mineiro',\n",
    "       'Area_Vale_do_Aco_Norte_Vale_Jequitinhonha',\n",
    "       'Area_Vale_do_Paraiba_e_Ribeira', 'StateAb_AC', 'StateAb_AL',\n",
    "       'StateAb_AM', 'StateAb_AP', 'StateAb_BA', 'StateAb_CE',\n",
    "       'StateAb_DF', 'StateAb_ES', 'StateAb_GO', 'StateAb_MA',\n",
    "       'StateAb_MG', 'StateAb_MS', 'StateAb_MT', 'StateAb_PA',\n",
    "       'StateAb_PB', 'StateAb_PE', 'StateAb_PI', 'StateAb_PR',\n",
    "       'StateAb_RJ', 'StateAb_RN', 'StateAb_RO', 'StateAb_RR',\n",
    "       'StateAb_RS', 'StateAb_SC', 'StateAb_SE', 'StateAb_SP',\n",
    "       'StateAb_TO',  'VehYear','ExposTotal',\n",
    "       'ExposFireRob', 'PremTotal', 'PremFireRob', 'SumInsAvg',\n",
    "       'ClaimNbRob', 'ClaimNbPartColl', 'ClaimNbTotColl', 'ClaimNbFire',\n",
    "       'ClaimNbOther', 'ClaimAmountRob', 'ClaimAmountPartColl',\n",
    "       'ClaimAmountTotColl', 'ClaimAmountFire', 'ClaimAmountOther'])\n",
    "weights.plot(kind='bar')\n",
    "\n",
    "plt.show()"
   ]
  },
  {
   "cell_type": "markdown",
   "metadata": {},
   "source": [
    "### 6.3) Using KMeans Cluster\n",
    "\n",
    "Objective is to create two cluster centres LargeClaim-0 and 1 and then compare against the generated lables to test the accuracy of prediction."
   ]
  },
  {
   "cell_type": "code",
   "execution_count": 37,
   "metadata": {
    "collapsed": true
   },
   "outputs": [],
   "source": [
    "from sklearn.cluster import KMeans"
   ]
  },
  {
   "cell_type": "markdown",
   "metadata": {},
   "source": [
    "** Create an instance of a K Means model with 2 clusters.**"
   ]
  },
  {
   "cell_type": "code",
   "execution_count": 38,
   "metadata": {
    "collapsed": true
   },
   "outputs": [],
   "source": [
    "kmn = KMeans(n_clusters=2)"
   ]
  },
  {
   "cell_type": "markdown",
   "metadata": {},
   "source": [
    "**Fit the model to all the data **"
   ]
  },
  {
   "cell_type": "code",
   "execution_count": 39,
   "metadata": {
    "collapsed": false
   },
   "outputs": [
    {
     "data": {
      "text/plain": [
       "KMeans(copy_x=True, init='k-means++', max_iter=300, n_clusters=2, n_init=10,\n",
       "    n_jobs=1, precompute_distances='auto', random_state=None, tol=0.0001,\n",
       "    verbose=0)"
      ]
     },
     "execution_count": 39,
     "metadata": {},
     "output_type": "execute_result"
    }
   ],
   "source": [
    "kmn.fit(X)"
   ]
  },
  {
   "cell_type": "markdown",
   "metadata": {},
   "source": [
    "** What are the cluster center vectors?**"
   ]
  },
  {
   "cell_type": "code",
   "execution_count": 40,
   "metadata": {
    "collapsed": false
   },
   "outputs": [
    {
     "data": {
      "text/plain": [
       "array([[  9.30280726e-02,   3.97232525e-01,   5.09739402e-01,\n",
       "          8.06683165e-02,   2.03832414e-01,   2.48760999e-01,\n",
       "          2.34325744e-01,   2.32412526e-01,   3.42998357e-03,\n",
       "          1.31391360e-02,   2.62853897e-03,   9.67071731e-03,\n",
       "          2.89466698e-02,   3.94266611e-02,   2.98947374e-02,\n",
       "          2.00688559e-02,   7.63529004e-02,   2.34959924e-02,\n",
       "          2.19891912e-02,   2.75444976e-02,   3.98352127e-02,\n",
       "          2.74341744e-02,   1.82624026e-02,   1.14017237e-02,\n",
       "          1.69064950e-02,   1.77577630e-02,   4.46346274e-02,\n",
       "          3.05118355e-02,   4.69656496e-02,   7.41236602e-02,\n",
       "          4.76297241e-02,   4.13263552e-02,   2.14489634e-02,\n",
       "          1.40117569e-02,   1.31014126e-02,   2.33023930e-02,\n",
       "          9.08208971e-03,   6.03987436e-02,   1.45470023e-02,\n",
       "          2.28048710e-03,   2.30824584e-03,   1.14358883e-02,\n",
       "          8.27423925e-03,   2.29586117e-02,   8.33402730e-03,\n",
       "          2.65394889e-02,   1.33533766e-02,   3.52457680e-02,\n",
       "          3.42998357e-03,   1.31391360e-02,   9.67071731e-03,\n",
       "          2.62853897e-03,   2.89466698e-02,   2.00688559e-02,\n",
       "          2.98947374e-02,   2.34959924e-02,   3.58187369e-02,\n",
       "          1.14017237e-02,   1.04177832e-01,   1.77577630e-02,\n",
       "          1.69064950e-02,   1.40117569e-02,   1.31014126e-02,\n",
       "          2.33023930e-02,   9.08208971e-03,   1.01910157e-01,\n",
       "          7.50638985e-02,   1.45470023e-02,   2.28048710e-03,\n",
       "          2.30824584e-03,   8.80322115e-02,   9.13874600e-02,\n",
       "          1.14358883e-02,   2.27865787e-01,   8.33402730e-03,\n",
       "          2.00473368e+03,   3.65156953e+00,   0.00000000e+00,\n",
       "          3.60666351e+03,   0.00000000e+00,   2.93621339e+04,\n",
       "          3.02769539e-02,   2.28344803e-01,   1.87335894e-02,\n",
       "          8.39168007e-04,   5.93348010e-01,   6.68607607e+02,\n",
       "          7.54363289e+02,   5.23619325e+02,   1.40837018e+01,\n",
       "          1.24980987e+02],\n",
       "       [  1.65311634e-01,   2.75993942e-01,   5.58694423e-01,\n",
       "          3.67498761e-02,   1.80608962e-01,   3.12485606e-01,\n",
       "          2.55881306e-01,   2.14274249e-01,   4.41054343e-03,\n",
       "          1.22964834e-02,   2.96595088e-03,   9.08627777e-03,\n",
       "          3.40002652e-02,   3.36234150e-02,   2.65330477e-02,\n",
       "          2.29180769e-02,   7.07710774e-02,   1.99800409e-02,\n",
       "          1.94008081e-02,   3.06295492e-02,   3.26812894e-02,\n",
       "          2.09221665e-02,   9.20491580e-03,   1.53950298e-02,\n",
       "          2.31065021e-02,   1.95613184e-02,   4.95278904e-02,\n",
       "          2.45301585e-02,   3.73570237e-02,   1.01449478e-01,\n",
       "          4.67852582e-02,   4.22560767e-02,   2.34973097e-02,\n",
       "          1.85842993e-02,   1.33153748e-02,   2.56537305e-02,\n",
       "          1.07681464e-02,   7.60539594e-02,   1.45436274e-02,\n",
       "          1.74467699e-03,   2.48442003e-03,   1.18917184e-02,\n",
       "          7.42534527e-03,   1.64906869e-02,   1.00981904e-02,\n",
       "          2.28901621e-02,   9.24678805e-03,   2.59189214e-02,\n",
       "          4.41054343e-03,   1.22964834e-02,   9.08627777e-03,\n",
       "          2.96595088e-03,   3.40002652e-02,   2.29180769e-02,\n",
       "          2.65330477e-02,   1.99800409e-02,   3.80548945e-02,\n",
       "          1.53950298e-02,   9.08837138e-02,   1.95613184e-02,\n",
       "          2.31065021e-02,   1.85842993e-02,   1.33153748e-02,\n",
       "          2.56537305e-02,   1.07681464e-02,   1.03703600e-01,\n",
       "          6.77074246e-02,   1.45436274e-02,   1.74467699e-03,\n",
       "          2.48442003e-03,   7.33531994e-02,   8.16508832e-02,\n",
       "          1.18917184e-02,   2.45308564e-01,   1.00981904e-02,\n",
       "          2.00766109e+03,   1.81597095e+00,   0.00000000e+00,\n",
       "          5.73953103e+03,   0.00000000e+00,   1.21824237e+05,\n",
       "          1.07611677e-02,   8.85737615e-02,   7.55794072e-03,\n",
       "          2.86127026e-04,   1.85445207e-01,   6.74709148e+02,\n",
       "          9.75479123e+02,   6.57768656e+02,   1.97701563e+01,\n",
       "          1.18370158e+02]])"
      ]
     },
     "execution_count": 40,
     "metadata": {},
     "output_type": "execute_result"
    }
   ],
   "source": [
    "kmn.cluster_centers_"
   ]
  },
  {
   "cell_type": "markdown",
   "metadata": {},
   "source": [
    "## Evaluation\n",
    "\n",
    "There is no perfect way to evaluate clustering if you don't have the labels, however  we do have the labels, so we take advantage of this to evaluate our clusters."
   ]
  },
  {
   "cell_type": "code",
   "execution_count": 41,
   "metadata": {
    "collapsed": false
   },
   "outputs": [
    {
     "name": "stdout",
     "output_type": "stream",
     "text": [
      "[[1132361  128702]\n",
      " [ 272561   14632]]\n",
      "\n",
      "\n",
      "             precision    recall  f1-score   support\n",
      "\n",
      "          0       0.81      0.90      0.85   1261063\n",
      "          1       0.10      0.05      0.07    287193\n",
      "\n",
      "avg / total       0.68      0.74      0.70   1548256\n",
      "\n"
     ]
    }
   ],
   "source": [
    "from sklearn.metrics import classification_report,confusion_matrix\n",
    "\n",
    "print(confusion_matrix(result_df2['LargeClaims'],kmn.labels_ ))\n",
    "\n",
    "print('\\n')\n",
    "\n",
    "print(classification_report(result_df2['LargeClaims'],kmn.labels_))"
   ]
  },
  {
   "cell_type": "markdown",
   "metadata": {},
   "source": [
    "Not so bad considering the algorithm is purely using the features to cluster the LargerClaims into 2 distinct groups."
   ]
  }
 ],
 "metadata": {
  "anaconda-cloud": {},
  "kernelspec": {
   "display_name": "Python [conda root]",
   "language": "python",
   "name": "conda-root-py"
  },
  "language_info": {
   "codemirror_mode": {
    "name": "ipython",
    "version": 2
   },
   "file_extension": ".py",
   "mimetype": "text/x-python",
   "name": "python",
   "nbconvert_exporter": "python",
   "pygments_lexer": "ipython2",
   "version": "2.7.12"
  }
 },
 "nbformat": 4,
 "nbformat_minor": 2
}
